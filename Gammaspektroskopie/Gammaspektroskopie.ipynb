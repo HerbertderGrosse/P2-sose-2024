{
 "cells": [
  {
   "cell_type": "markdown",
   "id": "42682082-b73c-4ed8-b2c0-363135adec6a",
   "metadata": {},
   "source": [
    "# Fakultät für Physik\n",
    "\n",
    "## Physikalisches Praktikum P2 für Studierende der Physik\n",
    "\n",
    "Versuch P2-72, 73, 83 (Stand: März 2024)\n",
    "\n",
    "[Raum F2-19](https://labs.physik.kit.edu/img/Praktikum/Lageplan_P2.png)\n",
    "\n",
    "\n",
    "\n",
    "# Gammaspektroskopie"
   ]
  },
  {
   "cell_type": "markdown",
   "id": "8325ca3f-3703-401b-9d86-06365071d964",
   "metadata": {},
   "source": [
    "Name: __________________ Vorname: __________________ E-Mail: __________________\n",
    "\n",
    "\\begin{equation*}\n",
    "\\begin{split}\n",
    "&\\\\\n",
    "&\\\\\n",
    "\\end{split}\n",
    "\\end{equation*}\n",
    "\n",
    "Name: __________________ Vorname: __________________ E-Mail: __________________\n",
    "\n",
    "\\begin{equation*}\n",
    "\\begin{split}\n",
    "&\\\\\n",
    "&\\\\\n",
    "&\\\\\n",
    "\\end{split}\n",
    "\\end{equation*}\n",
    "\n",
    "Gruppennummer: _____\n",
    "\n",
    "\\begin{equation*}\n",
    "\\begin{split}\n",
    "&\\\\\n",
    "&\\\\\n",
    "&\\\\\n",
    "\\end{split}\n",
    "\\end{equation*}\n",
    "\n",
    "\n",
    "Betreuer: __________________\n",
    "\n",
    "\\begin{equation*}\n",
    "\\begin{split}\n",
    "&\\\\\n",
    "&\\\\\n",
    "&\\\\\n",
    "\\end{split}\n",
    "\\end{equation*}\n",
    "\n",
    "Versuch durchgeführt am: __________________"
   ]
  },
  {
   "cell_type": "markdown",
   "id": "738d0368-6866-4933-af0b-19fac74143fc",
   "metadata": {},
   "source": [
    "---\n",
    "\n",
    "**Beanstandungen:**\n",
    "\n",
    "\\begin{equation*}\n",
    "\\begin{split}\n",
    "&\\\\\n",
    "&\\\\\n",
    "&\\\\\n",
    "&\\\\\n",
    "&\\\\\n",
    "&\\\\\n",
    "&\\\\\n",
    "&\\\\\n",
    "&\\\\\n",
    "&\\\\\n",
    "\\end{split}\n",
    "%\\text{\\vspace{10cm}}\n",
    "\\end{equation*}\n",
    "\n",
    "<br>\n",
    "Testiert am: __________________ Testat: __________________"
   ]
  },
  {
   "cell_type": "markdown",
   "id": "e13de07e-5451-471b-a22b-1c7905af9470",
   "metadata": {
    "tags": []
   },
   "source": [
    "# Durchführung\n",
    "\n",
    "**Die Anleitung zu diesem Versuch finden Sie [hier](https://gitlab.kit.edu/kit/etp-lehre/p2-praktikum/students/-/blob/main/Gammaspektroskopie/README.md).**"
   ]
  },
  {
   "cell_type": "markdown",
   "id": "3dc19f14-383d-4e96-8430-55f1e2eeffc0",
   "metadata": {
    "jp-MarkdownHeadingCollapsed": true,
    "tags": []
   },
   "source": [
    "## Aufgabe 1: Messanordnung\n",
    "\n",
    "**Hinweise zu Aufgabe 1 finden in der Datei [Hinweise-Versuchsdurchfuehrung.md](https://gitlab.kit.edu/kit/etp-lehre/p2-praktikum/students/-/blob/main/Gammaspektroskopie/doc/Hinweise-Versuchsdurchfuehrung.md).**\n",
    "\n",
    " * Machen Sie sich mit der Messanordnung vertraut. \n",
    " * Bearbeiten Sie hierzu die folgenden Aufgaben."
   ]
  },
  {
   "cell_type": "code",
   "execution_count": 13,
   "id": "559aa4eb",
   "metadata": {},
   "outputs": [],
   "source": [
    "import numpy as np\n",
    "import matplotlib.pyplot as plt\n",
    "from tools.gamma_tools import fit_peak\n"
   ]
  },
  {
   "cell_type": "code",
   "execution_count": 14,
   "id": "b95eb231",
   "metadata": {},
   "outputs": [],
   "source": [
    "def compacter(data,count):\n",
    "    splitspoints = np.arange(0,len(data),count,dtype=int)\n",
    "    sums = [np.sum(spli) for spli in np.split(data,splitspoints)[1:]]\n",
    "    return splitspoints,sums\n",
    "        "
   ]
  },
  {
   "cell_type": "markdown",
   "id": "c847b0f0-c930-469d-a2d1-10fa74274927",
   "metadata": {
    "jp-MarkdownHeadingCollapsed": true,
    "tags": []
   },
   "source": [
    "### Aufgabe 1.1: Beschreibung der Messanordnung\n",
    "\n",
    " * Beschreiben Sie die Messanordnung, die Sie für diesen Versuch vorfinden in eigenen Worten.\n",
    "\n",
    "---"
   ]
  },
  {
   "cell_type": "markdown",
   "id": "093b91d5-4284-43e4-bfaa-dfce3f41b29b",
   "metadata": {},
   "source": [
    "**Lösung:**\n",
    "\n",
    "*Fügen Sie Ihre Lösung zu dieser Aufgabe hier ein. Löschen Sie hierzu diesen kursiv gestellten Text aus dem Dokument. Um Code-Fragmente und Skripte in [Python](https://www.python.org/), sowie ggf. bildliche Darstellungen direkt ins [Jupyter notebook](https://jupyter.org/) einzubinden fügen Sie dem notebook eine Code-Zelle zu.* \n",
    "\n",
    "---"
   ]
  },
  {
   "cell_type": "markdown",
   "id": "24474090-95d0-4c73-a3e1-29fce409e226",
   "metadata": {
    "jp-MarkdownHeadingCollapsed": true,
    "tags": []
   },
   "source": [
    "### Aufgabe 1.2: Oszilloskopische Untersuchung des Signal \n",
    "\n",
    " * Untersuchen Sie das Signal eines beliebigen radioaktiven Präparats. \n",
    " * Verwenden Sie hierzu den MCA als Oszilloskop. \n",
    " * Beschreiben Sie Ihre Beobachtungen.\n",
    "\n",
    "---"
   ]
  },
  {
   "cell_type": "markdown",
   "id": "c059e535-acba-4c6b-935b-bb36d1a577cf",
   "metadata": {},
   "source": [
    "**Lösung:**\n",
    "\n",
    "*Fügen Sie Ihre Lösung zu dieser Aufgabe hier ein. Löschen Sie hierzu diesen kursiv gestellten Text aus dem Dokument. Um Code-Fragmente und Skripte in [Python](https://www.python.org/), sowie ggf. bildliche Darstellungen direkt ins [Jupyter notebook](https://jupyter.org/) einzubinden fügen Sie dem notebook eine Code-Zelle zu.* \n",
    "\n",
    "---"
   ]
  },
  {
   "cell_type": "markdown",
   "id": "bcef04b0-1ea7-4945-9505-9a088210bcfc",
   "metadata": {
    "jp-MarkdownHeadingCollapsed": true,
    "tags": []
   },
   "source": [
    "### Aufgabe 1.3: Spektrale Untersuchung des Signal \n",
    "\n",
    " * Untersuchen Sie zur Vorbereitung auf **Aufgabe 2** die Spektren der Präparate $_{\\hphantom{0}55}^{137}\\mathrm{Cs}$, $_{27}^{60}\\mathrm{Co}$ und $_{11}^{22}\\mathrm{Na}$.\n",
    " * Verwenden Sie hierzu den MCA in seiner eigentlichen Eigenschaft als Spektrumanalysator. \n",
    " * Bestimmen Sie einen einheitlichen dynamischen Bereich, des MCA mit dem Sie alle folgenden Spektren aufzeichnen werden.\n",
    "\n",
    "---"
   ]
  },
  {
   "cell_type": "markdown",
   "id": "2eb224f7-e4a2-4ad5-ba3d-246073c4d59a",
   "metadata": {},
   "source": [
    "**Lösung:**\n",
    "\n",
    "*Fügen Sie Ihre Lösung zu dieser Aufgabe hier ein. Löschen Sie hierzu diesen kursiv gestellten Text aus dem Dokument. Um Code-Fragmente und Skripte in [Python](https://www.python.org/), sowie ggf. bildliche Darstellungen direkt ins [Jupyter notebook](https://jupyter.org/) einzubinden fügen Sie dem notebook eine Code-Zelle zu.* \n",
    "\n",
    "---"
   ]
  },
  {
   "cell_type": "markdown",
   "id": "8b3ad7b9-496e-4423-aff2-42a82fc01d77",
   "metadata": {
    "jp-MarkdownHeadingCollapsed": true,
    "tags": []
   },
   "source": [
    "## Aufgabe 2: Analyse der Impulshöhenspektren\n",
    "\n",
    "**Hinweise zu Aufgabe 2 finden in der Datei [Hinweise-Versuchsdurchfuehrung.md](https://gitlab.kit.edu/kit/etp-lehre/p2-praktikum/students/-/blob/main/Gammaspektroskopie/doc/Hinweise-Versuchsdurchfuehrung.md).**\n",
    "\n",
    " * Analysieren Sie die Impulshöhenspektren der Präparate $_{\\hphantom{0}55}^{137}\\mathrm{Cs}$, $_{27}^{60}\\mathrm{Co}$ und $_{11}^{22}\\mathrm{Na}$. \n",
    " * Bearbeiten Sie hierzu die folgenden Aufgaben."
   ]
  },
  {
   "cell_type": "markdown",
   "id": "3ae01cd3-7ea9-45ef-a451-3c37b381dd3a",
   "metadata": {
    "jp-MarkdownHeadingCollapsed": true,
    "tags": []
   },
   "source": [
    "### Aufgabe 2.1: Bestimmung des Untergrunds ohne Präparat\n",
    "\n",
    " * Führen Sie eine Messung ohne Präparat durch, um ein Spektrum des Untergrunds zu erhalten, der jeder weiteren Messung unterliegt.\n",
    " * Notieren Sie sich die Zeitspanne, in der Sie das Spektrum aufgenommen haben. \n",
    "\n",
    "---"
   ]
  },
  {
   "cell_type": "code",
   "execution_count": 15,
   "id": "5e0ae909",
   "metadata": {},
   "outputs": [
    {
     "data": {
      "image/png": "[encoded data removed]",
      "text/plain": [
       "<Figure size 640x480 with 1 Axes>"
      ]
     },
     "metadata": {},
     "output_type": "display_data"
    },
    {
     "data": {
      "text/plain": [
       "26.082222222222224"
      ]
     },
     "execution_count": 15,
     "metadata": {},
     "output_type": "execute_result"
    }
   ],
   "source": [
    "hintergrund = np.genfromtxt('Mo 31/Hintergrund30min.hst')\n",
    "sample_range = np.arange(len(hintergrund))\n",
    "plt.bar(sample_range,hintergrund,width=1)\n",
    "plt.title('Hintergrundstrahlung im Zeitraum einer halben Stunden')\n",
    "plt.ylabel('Anzahl der Ereignisse')\n",
    "plt.xlabel('Spannung in mV')\n",
    "plt.show()\n",
    "np.sum(hintergrund)/60/30"
   ]
  },
  {
   "cell_type": "markdown",
   "id": "31a25868",
   "metadata": {},
   "source": [
    "Bei Messung der Hintergrundstrahlung registrieren wir generell eine eher niedrige Aktivität von nur \n",
    "\n",
    "$A = 26.08\\,Bq$\n",
    "\n",
    "Das Maxima der Intensitätsverteilung findet sich dabei eher bei niedrigen Energien im Bereich unter $1000\\,mV$."
   ]
  },
  {
   "cell_type": "code",
   "execution_count": 16,
   "id": "84d7c12d",
   "metadata": {},
   "outputs": [
    {
     "data": {
      "text/plain": [
       "26.082222222222224"
      ]
     },
     "execution_count": 16,
     "metadata": {},
     "output_type": "execute_result"
    }
   ],
   "source": [
    "np.sum(hintergrund)/30/60"
   ]
  },
  {
   "cell_type": "code",
   "execution_count": 17,
   "id": "890f5cc9",
   "metadata": {},
   "outputs": [
    {
     "data": {
      "text/plain": [
       "26.076666666666664"
      ]
     },
     "execution_count": 17,
     "metadata": {},
     "output_type": "execute_result"
    }
   ],
   "source": [
    "ca5 = np.genfromtxt('Mo 31/5min_schokolade.hst')\n",
    "np.sum(ca5)/5/60"
   ]
  },
  {
   "cell_type": "markdown",
   "id": "51f5f4d3-d7a5-4e05-a33e-5e73e67c1c22",
   "metadata": {
    "jp-MarkdownHeadingCollapsed": true,
    "tags": []
   },
   "source": [
    "### Aufgabe 2.2: Bestimmung der Impulshöhenspektren verschiedener Präparate\n",
    "\n",
    " * Führen Sie eine Messung für jedes der oben angegebenen Präparate durch.\n",
    " * Notieren Sie sich die Zeitspanne, in der Sie das jeweilge Spektrum aufgenommen haben. \n",
    " * Charakterisieren Sie die Spektren, indem Sie **alle Strukturen**, die Sie darin vorfinden identifizieren.\n",
    " * Fügen Sie Darstellungen der Spektren, **wie gemessen**, ins Protokoll ein. Für die anschließende Versuchsauswertung sollten Sie diese Spektren auf den in **Aufgabe 2.1** bestimmten Untergrund korrigieren und die MCA-Kanäle mit Hilfe der in **Aufgabe 2.3** bestimmten Kalibrationkonstanten auf die Energie des Photons $E_{\\gamma}$ kalibrieren.\n",
    "\n",
    "---"
   ]
  },
  {
   "cell_type": "code",
   "execution_count": 18,
   "id": "9facbf3b",
   "metadata": {},
   "outputs": [
    {
     "data": {
      "image/png": "[encoded data removed]",
      "text/plain": [
       "<Figure size 640x480 with 1 Axes>"
      ]
     },
     "metadata": {},
     "output_type": "display_data"
    }
   ],
   "source": [
    "cobalt = np.genfromtxt('Mo 31/Cobalt_10min.hst')-hintergrund/3\n",
    "plt.bar(sample_range,cobalt,width=1)\n",
    "plt.title('Cäsium-Spektrum 10 min')\n",
    "plt.ylabel('Anzahl der Ereignisse')\n",
    "plt.xlabel('Spannung in mV')\n",
    "plt.show()"
   ]
  },
  {
   "cell_type": "code",
   "execution_count": 19,
   "id": "6c2521b9",
   "metadata": {},
   "outputs": [
    {
     "data": {
      "image/png": "[encoded data removed]",
      "text/plain": [
       "<Figure size 640x480 with 1 Axes>"
      ]
     },
     "metadata": {},
     "output_type": "display_data"
    }
   ],
   "source": [
    "caesium = np.genfromtxt('Mo 31/Caesium_10min.hst')-hintergrund/3\n",
    "plt.bar(sample_range,caesium,width=1)\n",
    "plt.title('Cäsium-Spektrum 10 min')\n",
    "plt.ylabel('Anzahl der Ereignisse')\n",
    "plt.xlabel('Spannung in mV')\n",
    "plt.show()"
   ]
  },
  {
   "cell_type": "code",
   "execution_count": 20,
   "id": "205b7ae8",
   "metadata": {},
   "outputs": [
    {
     "name": "stdout",
     "output_type": "stream",
     "text": [
      "410\n"
     ]
    },
    {
     "data": {
      "text/plain": [
       "<BarContainer object of 410 artists>"
      ]
     },
     "execution_count": 20,
     "metadata": {},
     "output_type": "execute_result"
    },
    {
     "data": {
      "image/png": "[encoded data removed]",
      "text/plain": [
       "<Figure size 640x480 with 1 Axes>"
      ]
     },
     "metadata": {},
     "output_type": "display_data"
    }
   ],
   "source": [
    "caesium = cobalt\n",
    "count = 10\n",
    "splitspoints = np.arange(0,len(caesium),count,dtype=int)\n",
    "print(len(splitspoints))\n",
    "sums = [np.sum(element) for element in np.split(caesium,splitspoints)][1:]\n",
    "plt.bar(splitspoints,sums,width=count)"
   ]
  },
  {
   "cell_type": "code",
   "execution_count": 21,
   "id": "0d8055a8",
   "metadata": {},
   "outputs": [
    {
     "ename": "ValueError",
     "evalue": "Fit data and cost function are not compatible: poisson distribution can only have non-negative integers as y data.",
     "output_type": "error",
     "traceback": [
      "\u001b[0;31m---------------------------------------------------------------------------\u001b[0m",
      "\u001b[0;31mValueError\u001b[0m                                Traceback (most recent call last)",
      "\u001b[1;32m/Users/raphaelmutter/P2-sose-2024/Gammaspektroskopie/Gammaspektroskopie.ipynb Zelle 24\u001b[0m line \u001b[0;36m2\n\u001b[1;32m      <a href='vscode-notebook-cell:/Users/raphaelmutter/P2-sose-2024/Gammaspektroskopie/Gammaspektroskopie.ipynb#X42sZmlsZQ%3D%3D?line=0'>1</a>\u001b[0m caesium[caesium\u001b[39m<\u001b[39m\u001b[39m=\u001b[39m\u001b[39m0\u001b[39m] \u001b[39m=\u001b[39m \u001b[39m0\u001b[39m\n\u001b[0;32m----> <a href='vscode-notebook-cell:/Users/raphaelmutter/P2-sose-2024/Gammaspektroskopie/Gammaspektroskopie.ipynb#X42sZmlsZQ%3D%3D?line=1'>2</a>\u001b[0m fit_peak(sample_range,caesium)\n\u001b[1;32m      <a href='vscode-notebook-cell:/Users/raphaelmutter/P2-sose-2024/Gammaspektroskopie/Gammaspektroskopie.ipynb#X42sZmlsZQ%3D%3D?line=2'>3</a>\u001b[0m sample_range\n",
      "File \u001b[0;32m~/P2-sose-2024/Gammaspektroskopie/tools/gamma_tools.py:57\u001b[0m, in \u001b[0;36mfit_peak\u001b[0;34m(datax, datay, x1, x2, label, xlabel, ylabel, showResult, **initparams)\u001b[0m\n\u001b[1;32m     55\u001b[0m axislabels \u001b[39m=\u001b[39m [xlabel, ylabel]\n\u001b[1;32m     56\u001b[0m \u001b[39m# Perform a Gaussian fit on the remaining data, choosing the position of the maximum value in the data as an initial value for the position of the peak\u001b[39;00m\n\u001b[0;32m---> 57\u001b[0m fit \u001b[39m=\u001b[39m hist_fit_data(datax_clipped, datay_clipped, model \u001b[39m=\u001b[39;49m gaussian, limitedparams \u001b[39m=\u001b[39;49m [[\u001b[39m'\u001b[39;49m\u001b[39mmu\u001b[39;49m\u001b[39m'\u001b[39;49m, {\u001b[39m'\u001b[39;49m\u001b[39mlower\u001b[39;49m\u001b[39m'\u001b[39;49m:\u001b[39m0\u001b[39;49m}], [\u001b[39m'\u001b[39;49m\u001b[39msigma\u001b[39;49m\u001b[39m'\u001b[39;49m, {\u001b[39m'\u001b[39;49m\u001b[39mlower\u001b[39;49m\u001b[39m'\u001b[39;49m:\u001b[39m0\u001b[39;49m}], [\u001b[39m'\u001b[39;49m\u001b[39ms\u001b[39;49m\u001b[39m'\u001b[39;49m, {\u001b[39m'\u001b[39;49m\u001b[39mlower\u001b[39;49m\u001b[39m'\u001b[39;49m:\u001b[39m0\u001b[39;49m, \u001b[39m'\u001b[39;49m\u001b[39mupper\u001b[39;49m\u001b[39m'\u001b[39;49m:\u001b[39m1\u001b[39;49m}]], fixedparams \u001b[39m=\u001b[39;49m [[\u001b[39m\"\u001b[39;49m\u001b[39mN\u001b[39;49m\u001b[39m\"\u001b[39;49m, np\u001b[39m.\u001b[39;49msum(datay_clipped)], [\u001b[39m\"\u001b[39;49m\u001b[39mxmin\u001b[39;49m\u001b[39m\"\u001b[39;49m, x1], [\u001b[39m\"\u001b[39;49m\u001b[39mxmax\u001b[39;49m\u001b[39m\"\u001b[39;49m, x2]], mu \u001b[39m=\u001b[39;49m datax_clipped[np\u001b[39m.\u001b[39;49margmax(datay_clipped)], label \u001b[39m=\u001b[39;49m label, showResult \u001b[39m=\u001b[39;49m showResult, axislabels \u001b[39m=\u001b[39;49m axislabels, \u001b[39m*\u001b[39;49m\u001b[39m*\u001b[39;49minitparams)\n\u001b[1;32m     58\u001b[0m \u001b[39m# Return fit object\u001b[39;00m\n\u001b[1;32m     59\u001b[0m \u001b[39mreturn\u001b[39;00m fit\n",
      "File \u001b[0;32m~/P2-sose-2024/Gammaspektroskopie/tools/gamma_tools.py:104\u001b[0m, in \u001b[0;36mhist_fit_data\u001b[0;34m(x, y, model, label, constraints, fixedparams, limitedparams, parameternames, modellabel, modelname, axislabels, modelexpression, report, showResult, **initialvalues)\u001b[0m\n\u001b[1;32m    102\u001b[0m data\u001b[39m.\u001b[39maxis_labels \u001b[39m=\u001b[39m axislabels\n\u001b[1;32m    103\u001b[0m \u001b[39m# Assign data and model to fit\u001b[39;00m\n\u001b[0;32m--> 104\u001b[0m fit \u001b[39m=\u001b[39m HistFit(data, model_function \u001b[39m=\u001b[39;49m model, density \u001b[39m=\u001b[39;49m \u001b[39mTrue\u001b[39;49;00m)  \n\u001b[1;32m    105\u001b[0m \u001b[39m# Assign parameter constraints and set as initial values\u001b[39;00m\n\u001b[1;32m    106\u001b[0m \u001b[39mfor\u001b[39;00m a \u001b[39min\u001b[39;00m constraints:\n",
      "File \u001b[0;32m~/miniconda3/lib/python3.11/site-packages/kafe2/fit/histogram/fit.py:77\u001b[0m, in \u001b[0;36mHistFit.__init__\u001b[0;34m(self, data, model_function, cost_function, bin_evaluation, density, minimizer, minimizer_kwargs, dynamic_error_algorithm)\u001b[0m\n\u001b[1;32m     75\u001b[0m \u001b[39mself\u001b[39m\u001b[39m.\u001b[39m_bin_evaluation \u001b[39m=\u001b[39m bin_evaluation\n\u001b[1;32m     76\u001b[0m \u001b[39mself\u001b[39m\u001b[39m.\u001b[39m_density \u001b[39m=\u001b[39m density\n\u001b[0;32m---> 77\u001b[0m \u001b[39msuper\u001b[39;49m(HistFit, \u001b[39mself\u001b[39;49m)\u001b[39m.\u001b[39;49m\u001b[39m__init__\u001b[39;49m(\n\u001b[1;32m     78\u001b[0m     data\u001b[39m=\u001b[39;49mdata,\n\u001b[1;32m     79\u001b[0m     model_function\u001b[39m=\u001b[39;49mmodel_function,\n\u001b[1;32m     80\u001b[0m     cost_function\u001b[39m=\u001b[39;49mcost_function,\n\u001b[1;32m     81\u001b[0m     minimizer\u001b[39m=\u001b[39;49mminimizer,\n\u001b[1;32m     82\u001b[0m     minimizer_kwargs\u001b[39m=\u001b[39;49mminimizer_kwargs,\n\u001b[1;32m     83\u001b[0m     dynamic_error_algorithm\u001b[39m=\u001b[39;49mdynamic_error_algorithm,\n\u001b[1;32m     84\u001b[0m )\n",
      "File \u001b[0;32m~/miniconda3/lib/python3.11/site-packages/kafe2/fit/_base/fit.py:136\u001b[0m, in \u001b[0;36mFitBase.__init__\u001b[0;34m(self, data, model_function, cost_function, minimizer, minimizer_kwargs, dynamic_error_algorithm)\u001b[0m\n\u001b[1;32m    134\u001b[0m \u001b[39m# set the data after the cost_function has been set and nexus has been initialized\u001b[39;00m\n\u001b[1;32m    135\u001b[0m \u001b[39mif\u001b[39;00m data \u001b[39mis\u001b[39;00m \u001b[39mnot\u001b[39;00m \u001b[39mNone\u001b[39;00m:\n\u001b[0;32m--> 136\u001b[0m     \u001b[39mself\u001b[39;49m\u001b[39m.\u001b[39;49mdata \u001b[39m=\u001b[39m data\n",
      "File \u001b[0;32m~/miniconda3/lib/python3.11/site-packages/kafe2/fit/_base/fit.py:461\u001b[0m, in \u001b[0;36mFitBase.data\u001b[0;34m(self, new_data)\u001b[0m\n\u001b[1;32m    459\u001b[0m _data_and_cost_compatible, _reason \u001b[39m=\u001b[39m \u001b[39mself\u001b[39m\u001b[39m.\u001b[39m_cost_function\u001b[39m.\u001b[39mis_data_compatible(\u001b[39mself\u001b[39m\u001b[39m.\u001b[39mdata)\n\u001b[1;32m    460\u001b[0m \u001b[39mif\u001b[39;00m \u001b[39mnot\u001b[39;00m _data_and_cost_compatible:\n\u001b[0;32m--> 461\u001b[0m     \u001b[39mraise\u001b[39;00m \u001b[39mValueError\u001b[39;00m(\u001b[39m\"\u001b[39m\u001b[39mFit data and cost function are not compatible: \u001b[39m\u001b[39m%s\u001b[39;00m\u001b[39m\"\u001b[39m \u001b[39m%\u001b[39m _reason)\n\u001b[1;32m    462\u001b[0m \u001b[39mself\u001b[39m\u001b[39m.\u001b[39m_set_new_parametric_model()\n\u001b[1;32m    463\u001b[0m \u001b[39mself\u001b[39m\u001b[39m.\u001b[39m_param_model\u001b[39m.\u001b[39m_on_error_change_callbacks \u001b[39m=\u001b[39m [\u001b[39mself\u001b[39m\u001b[39m.\u001b[39m_on_error_change]\n",
      "\u001b[0;31mValueError\u001b[0m: Fit data and cost function are not compatible: poisson distribution can only have non-negative integers as y data."
     ]
    }
   ],
   "source": [
    "caesium[caesium<=0] = 0\n",
    "fit_peak(sample_range,caesium)\n",
    "sample_range\n"
   ]
  },
  {
   "cell_type": "markdown",
   "id": "95ac41a2-5000-4a75-8e9a-986f41c69fda",
   "metadata": {
    "jp-MarkdownHeadingCollapsed": true,
    "tags": []
   },
   "source": [
    "### Aufgabe 2.3: Energie-Kalibration des Detektors\n",
    "\n",
    " * Kalibieren Sie mit Hilfe der in **Aufgabe 2.2** aufgezeichneten Spektren die Kanäle des MCA auf die Photonenergie $E_{\\gamma}$. \n",
    " * Fügen Sie eine Darstellung der Kalibrationspunkte ins Protokoll ein und passen Sie ein entsprechendes Modell daran an. \n",
    "\n",
    "---"
   ]
  },
  {
   "cell_type": "markdown",
   "id": "afa42a01-aa90-4277-8b00-deca175c897f",
   "metadata": {},
   "source": [
    "**Lösung:**\n",
    "\n",
    "*Fügen Sie Ihre Lösung zu dieser Aufgabe hier ein. Löschen Sie hierzu diesen kursiv gestellten Text aus dem Dokument. Um Code-Fragmente und Skripte in [Python](https://www.python.org/), sowie ggf. bildliche Darstellungen direkt ins [Jupyter notebook](https://jupyter.org/) einzubinden fügen Sie dem notebook eine Code-Zelle zu.* \n",
    "\n",
    "---"
   ]
  },
  {
   "cell_type": "markdown",
   "id": "d5f51052-8055-4c77-8448-5a42f6843f20",
   "metadata": {
    "jp-MarkdownHeadingCollapsed": true,
    "tags": []
   },
   "source": [
    "### Aufgabe 2.4: Relative Energie-Auflösung des Detektors\n",
    "\n",
    " * Bestimmen Sie mit Hilfe der in **Aufgabe 2.2** aufgezeichneten Spektren die relative Energieauflösung des Detektors als Funktion von $E_{\\gamma}$.\n",
    " * Fügen Sie eine Darstellung der bestimmten Messpunkte ins Protokoll ein und passen Sie ein entsprechendes Modell daran an. \n",
    " * Schätzen Sie basierend auf dieser Anpassung die erwartete Anzahl ausgeschlagener Elektronen $N_{\\mathrm{e}}$ an der Photokathode des im Photodetektor verbauten Photomultipliers ab. \n",
    "\n",
    "---"
   ]
  },
  {
   "cell_type": "markdown",
   "id": "f32cd2e9-ede8-4c62-bab2-f191a99f0518",
   "metadata": {},
   "source": [
    "**Lösung:**\n",
    "\n",
    "*Fügen Sie Ihre Lösung zu dieser Aufgabe hier ein. Löschen Sie hierzu diesen kursiv gestellten Text aus dem Dokument. Um Code-Fragmente und Skripte in [Python](https://www.python.org/), sowie ggf. bildliche Darstellungen direkt ins [Jupyter notebook](https://jupyter.org/) einzubinden fügen Sie dem notebook eine Code-Zelle zu.* \n",
    "\n",
    "---"
   ]
  },
  {
   "cell_type": "markdown",
   "id": "a09b9086-556d-4b45-9602-c5442154eb66",
   "metadata": {
    "jp-MarkdownHeadingCollapsed": true,
    "tags": []
   },
   "source": [
    "## Aufgabe 3: Detektorakzeptanz\n",
    "\n",
    "**Hinweise zu Aufgabe 3 finden in der Datei [Hinweise-Versuchsdurchfuehrung.md](https://gitlab.kit.edu/kit/etp-lehre/p2-praktikum/students/-/blob/main/Gammaspektroskopie/doc/Hinweise-Versuchsdurchfuehrung.md).**\n",
    "\n",
    " * Bestimmen Sie Rate aufgezeichneter Photonen für $_{\\hphantom{0}55}^{137}\\mathrm{Cs}$ bei fünf verschiedenen Abständen des Präparats von der Detektorstirnfläche.  \n",
    " * Schätzen Sie ab und begründen Sie, ob eine Korrektur auf den unterliegenden Untergrund notwendig ist. \n",
    " * Schätzen Sie ab und begründen Sie, ob eine Korrektur des Detektors auf pile-up notwendig ist.\n",
    " * Fügen Sie eine Darstellung der bestimmten Messpunkte ins Protokoll ein und passen Sie ein entsprechendes Modell daran an. \n",
    " \n",
    "---"
   ]
  },
  {
   "cell_type": "markdown",
   "id": "a019bbb3-7793-4b93-ab2a-8ff7e2e9edd4",
   "metadata": {},
   "source": [
    "**Lösung:**\n",
    "\n",
    "*Fügen Sie Ihre Lösung zu dieser Aufgabe hier ein. Löschen Sie hierzu diesen kursiv gestellten Text aus dem Dokument. Um Code-Fragmente und Skripte in [Python](https://www.python.org/), sowie ggf. bildliche Darstellungen direkt ins [Jupyter notebook](https://jupyter.org/) einzubinden fügen Sie dem notebook eine Code-Zelle zu.* \n",
    "\n",
    "---"
   ]
  },
  {
   "cell_type": "markdown",
   "id": "9243697f",
   "metadata": {},
   "source": []
  },
  {
   "cell_type": "markdown",
   "id": "68fea107",
   "metadata": {},
   "source": []
  }
 ],
 "metadata": {
  "kernelspec": {
   "display_name": "Python 3 (ipykernel)",
   "language": "python",
   "name": "python3"
  },
  "language_info": {
   "codemirror_mode": {
    "name": "ipython",
    "version": 3
   },
   "file_extension": ".py",
   "mimetype": "text/x-python",
   "name": "python",
   "nbconvert_exporter": "python",
   "pygments_lexer": "ipython3",
   "version": "3.11.9"
  }
 },
 "nbformat": 4,
 "nbformat_minor": 5
}
