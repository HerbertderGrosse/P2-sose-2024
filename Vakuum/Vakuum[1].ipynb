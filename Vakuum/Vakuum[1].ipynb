{
 "cells": [
  {
   "cell_type": "markdown",
   "id": "89066e31-faf3-4ac9-a78a-a364e066ca84",
   "metadata": {},
   "source": [
    "# Fakultät für Physik\n",
    "\n",
    "## Physikalisches Praktikum P2 für Studierende der Physik\n",
    "\n",
    "Versuch P2-41, 42, 22 (Stand: April 2024)\n",
    "\n",
    "[Raum F1-19](https://labs.physik.kit.edu/img/Praktikum/Lageplan_P2.png)\n",
    "\n",
    "\n",
    "\n",
    "# Vakuum"
   ]
  },
  {
   "cell_type": "markdown",
   "id": "27cf71fa-c60c-45ed-a885-790064eb1939",
   "metadata": {},
   "source": [
    "Name: __________________ Vorname: __________________ E-Mail: __________________\n",
    "\n",
    "\\begin{equation*}\n",
    "\\begin{split}\n",
    "&\\\\\n",
    "&\\\\\n",
    "\\end{split}\n",
    "\\end{equation*}\n",
    "\n",
    "Name: __________________ Vorname: __________________ E-Mail: __________________\n",
    "\n",
    "\\begin{equation*}\n",
    "\\begin{split}\n",
    "&\\\\\n",
    "&\\\\\n",
    "&\\\\\n",
    "\\end{split}\n",
    "\\end{equation*}\n",
    "\n",
    "Gruppennummer: _____\n",
    "\n",
    "\\begin{equation*}\n",
    "\\begin{split}\n",
    "&\\\\\n",
    "&\\\\\n",
    "&\\\\\n",
    "\\end{split}\n",
    "\\end{equation*}\n",
    "\n",
    "\n",
    "Betreuer: __________________\n",
    "\n",
    "\\begin{equation*}\n",
    "\\begin{split}\n",
    "&\\\\\n",
    "&\\\\\n",
    "&\\\\\n",
    "\\end{split}\n",
    "\\end{equation*}\n",
    "\n",
    "Versuch durchgeführt am: __________________"
   ]
  },
  {
   "cell_type": "markdown",
   "id": "937b583d-19fe-43ae-8a04-df6f69389672",
   "metadata": {},
   "source": [
    "---\n",
    "\n",
    "**Beanstandungen:**\n",
    "\n",
    "\\begin{equation*}\n",
    "\\begin{split}\n",
    "&\\\\\n",
    "&\\\\\n",
    "&\\\\\n",
    "&\\\\\n",
    "&\\\\\n",
    "&\\\\\n",
    "&\\\\\n",
    "&\\\\\n",
    "&\\\\\n",
    "&\\\\\n",
    "\\end{split}\n",
    "%\\text{\\vspace{10cm}}\n",
    "\\end{equation*}\n",
    "\n",
    "<br>\n",
    "Testiert am: __________________ Testat: __________________"
   ]
  },
  {
   "cell_type": "markdown",
   "id": "9f649150-8b74-49d3-83fb-1facbc06934d",
   "metadata": {},
   "source": [
    "# Durchführung\n",
    "\n",
    "**Die Anleitung zu diesem Versuch finden Sie [hier](https://gitlab.kit.edu/kit/etp-lehre/p2-praktikum/students/-/blob/main/Vakuum/README.md).**"
   ]
  },
  {
   "cell_type": "markdown",
   "id": "f6193e61-35b0-4147-ba5b-cc9369e5b192",
   "metadata": {
    "jp-MarkdownHeadingCollapsed": true,
    "tags": []
   },
   "source": [
    "## Aufgabe 1: Versuchsaufbau\n",
    "\n",
    "**Hinweise zu Aufgabe 1 finden in der Datei [Hinweise-Versuchsdurchfuehrung.md](https://gitlab.kit.edu/kit/etp-lehre/p2-praktikum/students/-/blob/main/Vakuum/doc/Hinweise-Versuchsdurchfuehrung.md).**\n",
    "\n",
    " * Machen Sie sich mit dem Versuchsaufbau vertraut. \n",
    " * Bearbeiten Sie hierzu die folgenden Aufgaben."
   ]
  },
  {
   "cell_type": "code",
   "execution_count": 1,
   "id": "60803145",
   "metadata": {},
   "outputs": [],
   "source": [
    "import numpy as np"
   ]
  },
  {
   "cell_type": "markdown",
   "id": "64fe330f-c7d1-41e0-91af-a4b379848e20",
   "metadata": {
    "jp-MarkdownHeadingCollapsed": true,
    "tags": []
   },
   "source": [
    "### Aufgabe 1.1: Orientierung und Beschreibung des Versuchsaufbaus\n",
    "\n",
    " * Verschaffen Sie sich einen Überblick über die verwendeten Apparaturen und beschreiben Sie sie in eigenen Worten.  \n",
    " * Verfolgen Sie hierzu die Leitungen und identifizieren Sie die verwendeten Elemente in der zugehörigen Skizze. \n",
    "   \n",
    "---"
   ]
  },
  {
   "cell_type": "markdown",
   "id": "32ef6302-1c01-40d7-9c83-ea5c664f14a0",
   "metadata": {},
   "source": [
    "**Lösung:**\n",
    "\n",
    "*Fügen Sie Ihre Lösung zu dieser Aufgabe hier ein. Löschen Sie hierzu diesen kursiv gestellten Text aus dem Dokument. Um Code-Fragmente und Skripte in [Python](https://www.python.org/), sowie ggf. bildliche Darstellungen direkt ins [Jupyter notebook](https://jupyter.org/) einzubinden fügen Sie dem notebook eine Code-Zelle zu.* \n",
    "\n",
    "---"
   ]
  },
  {
   "cell_type": "markdown",
   "id": "660733e2-8145-4f32-9654-08c0f45b56b9",
   "metadata": {
    "jp-MarkdownHeadingCollapsed": true,
    "tags": []
   },
   "source": [
    "### Aufgabe 1.2: Gasentladung (Demonstrationsversuch)\n",
    "\n",
    " * Schalten Sie das Hochspannungsgerät zur Erzeugung der Gasentladungen ein.\n",
    " * Evakuieren Sie RZ und die Gasentladungsröhre gemeinsam mit Hilfe der DSP. \n",
    " * Senken Sie den Druck kontinuierlich, bis die Gasentladung erlischt. \n",
    " * Skizzieren und beschreiben Sie die Gasentladung in Abhängigkeit vom Gasdruck. \n",
    "\n",
    "---"
   ]
  },
  {
   "cell_type": "markdown",
   "id": "dcb3d760-7527-4b14-b5f5-ced25fb0258a",
   "metadata": {},
   "source": [
    "**Lösung:**\n",
    "\n",
    "*Fügen Sie Ihre Lösung zu dieser Aufgabe hier ein. Löschen Sie hierzu diesen kursiv gestellten Text aus dem Dokument. Um Code-Fragmente und Skripte in [Python](https://www.python.org/), sowie ggf. bildliche Darstellungen direkt ins [Jupyter notebook](https://jupyter.org/) einzubinden fügen Sie dem notebook eine Code-Zelle zu.* \n",
    "\n",
    "---"
   ]
  },
  {
   "cell_type": "markdown",
   "id": "6d7d2608-13c8-4244-98f6-978666bfeaba",
   "metadata": {
    "jp-MarkdownHeadingCollapsed": true,
    "tags": []
   },
   "source": [
    "## Aufgabe 2: Saugvermögen und Leitwert\n",
    "\n",
    "**Hinweise zu Aufgabe 1 finden in der Datei [Hinweise-Versuchsdurchfuehrung.md](https://gitlab.kit.edu/kit/etp-lehre/p2-praktikum/students/-/blob/main/Vakuum/doc/Hinweise-Versuchsdurchfuehrung.md).**\n",
    "\n",
    " - Untersuchen Sie das effektive Saugvermögen von DSP und TMP, sowie den Strömungsleitwert eines dünnen Rohrs. \n",
    " - Bearbeiten Sie hierzu die folgenden Aufgaben."
   ]
  },
  {
   "cell_type": "markdown",
   "id": "8265f1be-61c4-4334-be19-699e469c3398",
   "metadata": {
    "jp-MarkdownHeadingCollapsed": true,
    "tags": []
   },
   "source": [
    "### Aufgabe 2.1: Saugvermögen der DSP\n",
    "\n",
    "Evakuieren Sie die Apparatur mit Hilfe der DSP und stellen Sie die folgenden funktionalen Zusammenhänge des Druck jeweils **bei T1** geeignet graphisch dar:\n",
    " - Den Druck als Funktion der Zeit $p(t)$. \n",
    " - Das Saugvermögen als Funktion des Drucks $S(p)$.\n",
    "\n",
    "---"
   ]
  },
  {
   "cell_type": "markdown",
   "id": "13def5a7-a0e5-4099-8465-fe63f5f654e1",
   "metadata": {},
   "source": [
    "**Lösung:**\n",
    "\n",
    "*Fügen Sie Ihre Lösung zu dieser Aufgabe hier ein. Löschen Sie hierzu diesen kursiv gestellten Text aus dem Dokument. Um Code-Fragmente und Skripte in [Python](https://www.python.org/), sowie ggf. bildliche Darstellungen direkt ins [Jupyter notebook](https://jupyter.org/) einzubinden fügen Sie dem notebook eine Code-Zelle zu.* \n",
    "\n",
    "---"
   ]
  },
  {
   "cell_type": "markdown",
   "id": "3edf8c1a-8093-424d-b71c-ffed083c79a8",
   "metadata": {
    "jp-MarkdownHeadingCollapsed": true,
    "tags": []
   },
   "source": [
    "### Aufgabe 2.2: Leitwert eines dünnen Rohrs\n",
    "\n",
    " - Bei der Verbindungsleitung L [hier](https://gitlab.kit.edu/kit/etp-lehre/p2-praktikum/students/-/blob/main/Vakuum/figures/VakuumSkizze.png) handelt es sich im Originalaufbau um einen Metallwellschlauch. Tauschen Sie diesen gegen das bereitliegende etwa gleichlange dünne Metallrohr aus.\n",
    " - Bestimmen Sie die Drucke $p_{1}$ (bei T1) vor und $p_{2}$ (bei T2) hinter dem Rohr als Funktion der Zeit. \n",
    " - Bestimmen Sie aus den gewonnenen Daten den Leitwert des Rohrs als Funktion des Drucks.\n",
    "\n",
    "---"
   ]
  },
  {
   "cell_type": "markdown",
   "id": "824ddc4d-ac26-44c1-8c69-e90313d52617",
   "metadata": {},
   "source": [
    "**Lösung:**\n",
    "\n",
    "*Fügen Sie Ihre Lösung zu dieser Aufgabe hier ein. Löschen Sie hierzu diesen kursiv gestellten Text aus dem Dokument. Um Code-Fragmente und Skripte in [Python](https://www.python.org/), sowie ggf. bildliche Darstellungen direkt ins [Jupyter notebook](https://jupyter.org/) einzubinden fügen Sie dem notebook eine Code-Zelle zu.* \n",
    "\n",
    "---"
   ]
  },
  {
   "cell_type": "markdown",
   "id": "0ba91206-e004-4c1a-b373-2e67f979a67c",
   "metadata": {
    "jp-MarkdownHeadingCollapsed": true,
    "tags": []
   },
   "source": [
    "### Aufgabe 2.3: Saugvermögen der TMP\n",
    "\n",
    " - Nehmen Sie die TMP in Betrieb und bestimmen Sie analog zu **Aufgabe 2.1** das Saugvermögen der TMP als Funktion des Drucks bei IM. \n",
    " - Stellen Sie S(p) für die DSP und die TMP in einem Diagramm graphisch dar und diskutieren Sie Ihr Ergebnis.\n",
    " - Schätzen Sie die Kraft ab, mit der die Glasglocke auf die Gummidichtung gedrückt wird.\n",
    "\n",
    "---"
   ]
  },
  {
   "cell_type": "markdown",
   "id": "cc29074d-9701-4ec1-ae6a-79d9e4b6f6e9",
   "metadata": {},
   "source": [
    "**Lösung:**\n",
    "\n",
    "*Fügen Sie Ihre Lösung zu dieser Aufgabe hier ein. Löschen Sie hierzu diesen kursiv gestellten Text aus dem Dokument. Um Code-Fragmente und Skripte in [Python](https://www.python.org/), sowie ggf. bildliche Darstellungen direkt ins [Jupyter notebook](https://jupyter.org/) einzubinden fügen Sie dem notebook eine Code-Zelle zu.* \n",
    "\n",
    "---"
   ]
  },
  {
   "cell_type": "markdown",
   "id": "c7b52bb9-ae42-4298-b14a-141cea21fffb",
   "metadata": {
    "jp-MarkdownHeadingCollapsed": true,
    "tags": []
   },
   "source": [
    "## Aufgabe 3: Experimente im Vakuum\n",
    "\n",
    "**Hinweise zu Aufgabe 1 finden in der Datei [Hinweise-Versuchsdurchfuehrung.md](https://gitlab.kit.edu/kit/etp-lehre/p2-praktikum/students/-/blob/main/Vakuum/doc/Hinweise-Versuchsdurchfuehrung.md).**\n",
    "\n",
    " - Für diese Aufgabe führen Sie einige einfache Experimente im Vakuum durch. \n",
    " - Bearbeiten Sie hierzu die folgenden Aufgaben. "
   ]
  },
  {
   "cell_type": "markdown",
   "id": "6e2a190c-eb0d-4a60-83e5-d9118e9ccefc",
   "metadata": {
    "jp-MarkdownHeadingCollapsed": true,
    "tags": []
   },
   "source": [
    "### Aufgabe 3.1: Statische Kalibration von T3\n",
    "\n",
    "Führen Sie mit Hilfe des Referenzvolumes RV eine statische Kalibration des Vakuummeters T3 durch.\n",
    "\n",
    "---"
   ]
  },
  {
   "cell_type": "code",
   "execution_count": 2,
   "id": "964bf64a",
   "metadata": {},
   "outputs": [
    {
     "data": {
      "text/plain": [
       "[3.58,\n",
       " 7.32,\n",
       " 11.2,\n",
       " 15.1,\n",
       " 17,\n",
       " 23.4,\n",
       " 28.0,\n",
       " 32.1,\n",
       " 37.4,\n",
       " 42.0,\n",
       " 47.0,\n",
       " 52.2,\n",
       " 60.8,\n",
       " 66.0,\n",
       " 71.3,\n",
       " 77.6,\n",
       " 85.6]"
      ]
     },
     "execution_count": 2,
     "metadata": {},
     "output_type": "execute_result"
    }
   ],
   "source": [
    "[3.58,7.32,11.2,15.1,17,23.4,28.0,32.1,37.4,42.0,47.0,52.2,60.8,66.0,71.3,77.6,85.6]"
   ]
  },
  {
   "cell_type": "markdown",
   "id": "79a35b76-2580-482e-b90b-a53977b5e53f",
   "metadata": {
    "jp-MarkdownHeadingCollapsed": true,
    "tags": []
   },
   "source": [
    "### Aufgabe 3.2: Elektrische Durchschlagfestigkeit\n",
    "\n",
    " - Bestimmen Sie die elektrische Durchschlagfestigkeit der KE als Funktion des Umgebungsdrucks in Luft. \n",
    " - Diese Aufgabe kann nur an den Apparaturen 41 und 42 durchgeführt werden. \n",
    "\n",
    "---"
   ]
  },
  {
   "cell_type": "code",
   "execution_count": 3,
   "id": "10e60db4",
   "metadata": {},
   "outputs": [],
   "source": [
    "durchschlag = np.array([[1000,4225],[500,1223],[249,1100],[122,867],[62.4,682],[31.8,525],[15.1,407],[7.52,387],[3.52,323],[1.72,300],[0.842,399],[0.433,443],[0.200,425],[0.0833,525]]) #[Druck[mbar],Spannung]\n",
    "\n",
    "durchschlagTMP = np.array([[0.02,1000],[0.025,910],[0.03,835],[0.35,777],[0.46,710],[0.053,601],[0.056,585],[0.06,576],[0.065,566],[0.07,559],[0.075,553],[0.08,545],[0.083,542],[0.086,539],[0.09,537],[0.095,532],[0.1,530],[0.11,525]])"
   ]
  },
  {
   "cell_type": "markdown",
   "id": "21028425-06e0-4e28-994a-187646cc8ee1",
   "metadata": {
    "jp-MarkdownHeadingCollapsed": true,
    "tags": []
   },
   "source": [
    "### Aufgabe 3.3: Aufdampfen von Indium\n",
    "\n",
    "Dampfen Sie mit Hilfe einer Schablone bei zwei verschiedenen Drucken Indium auf eine Plexiglasplatte auf.\n",
    "\n",
    "---"
   ]
  },
  {
   "cell_type": "markdown",
   "id": "b849f76a-0ffe-4b63-bf83-cb71bf57a012",
   "metadata": {},
   "source": [
    "**Lösung:**\n",
    "\n",
    "*Fügen Sie Ihre Lösung zu dieser Aufgabe hier ein. Löschen Sie hierzu diesen kursiv gestellten Text aus dem Dokument. Um Code-Fragmente und Skripte in [Python](https://www.python.org/), sowie ggf. bildliche Darstellungen direkt ins [Jupyter notebook](https://jupyter.org/) einzubinden fügen Sie dem notebook eine Code-Zelle zu.* \n",
    "\n",
    "---"
   ]
  },
  {
   "cell_type": "code",
   "execution_count": 1,
   "id": "a9b914ea",
   "metadata": {},
   "outputs": [],
   "source": [
    "import pytesseract\n",
    "import cv2"
   ]
  },
  {
   "cell_type": "code",
   "execution_count": 2,
   "id": "d78040e1",
   "metadata": {},
   "outputs": [
    {
     "data": {
      "text/plain": [
       "'000\\n'"
      ]
     },
     "execution_count": 2,
     "metadata": {},
     "output_type": "execute_result"
    }
   ],
   "source": [
    "pytesseract.image_to_string('doc/Bildschirmfoto 2024-05-27 um 16.01.23.png',config='--oem 3 --psm 7 outputbase digits')"
   ]
  },
  {
   "cell_type": "code",
   "execution_count": 3,
   "id": "4cf6e088",
   "metadata": {},
   "outputs": [
    {
     "data": {
      "text/plain": [
       "'000\\n'"
      ]
     },
     "execution_count": 3,
     "metadata": {},
     "output_type": "execute_result"
    }
   ],
   "source": [
    "import cv2\n",
    "\n",
    "# Bild laden\n",
    "image = cv2.imread('doc/Bildschirmfoto 2024-05-27 um 16.01.23.png',cv2.COLOR_BGR2GRAY)\n",
    "gray_image = cv2.cvtColor(image, cv2.COLOR_BGR2GRAY)\n",
    "\n",
    "pytesseract.image_to_string(image,config='--psm 7')"
   ]
  },
  {
   "cell_type": "code",
   "execution_count": 4,
   "id": "ffc76561",
   "metadata": {},
   "outputs": [
    {
     "data": {
      "text/plain": [
       "array([[[ 38,  11,  97],\n",
       "        [ 30,  12, 108],\n",
       "        [ 30,  10, 102],\n",
       "        ...,\n",
       "        [ 41,  58,  35],\n",
       "        [ 41,  57,  36],\n",
       "        [ 43,  62,  37]],\n",
       "\n",
       "       [[ 30,   7, 113],\n",
       "        [ 36,  10, 125],\n",
       "        [ 30,   9, 115],\n",
       "        ...,\n",
       "        [ 41,  58,  35],\n",
       "        [ 41,  58,  35],\n",
       "        [ 43,  51,  35]],\n",
       "\n",
       "       [[ 30,   9, 116],\n",
       "        [ 30,  10, 124],\n",
       "        [ 38,   9, 113],\n",
       "        ...,\n",
       "        [ 38,  60,  34],\n",
       "        [ 40,  70,  33],\n",
       "        [ 41,  64,  32]],\n",
       "\n",
       "       ...,\n",
       "\n",
       "       [[ 68,  12,  83],\n",
       "        [ 60,  12,  84],\n",
       "        [ 68,  12,  84],\n",
       "        ...,\n",
       "        [ 45,   7,  71],\n",
       "        [ 30,   7,  77],\n",
       "        [ 30,   6,  84]],\n",
       "\n",
       "       [[ 66,  21,  61],\n",
       "        [ 66,  21,  61],\n",
       "        [ 66,  21,  62],\n",
       "        ...,\n",
       "        [  0,   0,  96],\n",
       "        [  0,   0,  96],\n",
       "        [  0,   0, 100]],\n",
       "\n",
       "       [[ 60,  20,  52],\n",
       "        [ 60,  24,  53],\n",
       "        [ 66,  24,  53],\n",
       "        ...,\n",
       "        [  0,   0, 115],\n",
       "        [  0,   0, 113],\n",
       "        [  0,   0, 115]]], dtype=uint8)"
      ]
     },
     "execution_count": 4,
     "metadata": {},
     "output_type": "execute_result"
    }
   ],
   "source": [
    "hsv = cv2.cvtColor(image, cv2.COLOR_BGR2HSV)\n",
    "hsv"
   ]
  },
  {
   "cell_type": "code",
   "execution_count": 5,
   "id": "2fa9613a",
   "metadata": {},
   "outputs": [
    {
     "name": "stdout",
     "output_type": "stream",
     "text": [
      "Erkannte Zahlen: 000\n",
      "-\n",
      "-8-\n"
     ]
    }
   ],
   "source": [
    "import cv2\n",
    "import pytesseract\n",
    "\n",
    "\n",
    "def preprocess_image(frame):\n",
    "    # Konvertieren Sie das Bild in Graustufen\n",
    "    gray = cv2.cvtColor(frame, cv2.COLOR_BGR2GRAY)\n",
    "    \n",
    "    # Anwenden von Thresholding, um den Kontrast zu erhöhen\n",
    "    _, thresh = cv2.threshold(gray, 0, 255, cv2.THRESH_BINARY_INV + cv2.THRESH_OTSU)\n",
    "    \n",
    "    return thresh\n",
    "\n",
    "def extract_numbers_from_frame(frame):\n",
    "    # Bildvorverarbeitung\n",
    "    processed_frame = preprocess_image(frame)\n",
    "    \n",
    "    # OCR-Konfiguration für die Erkennung von Zahlen\n",
    "    custom_config = r'--oem 3 --psm 6 outputbase digits'\n",
    "    \n",
    "    # OCR mit pytesseract\n",
    "    text = pytesseract.image_to_string(processed_frame, config=custom_config)\n",
    "    \n",
    "    return text.strip()\n",
    "\n",
    "# Bild laden\n",
    "image_path = 'doc/Bildschirmfoto 2024-05-27 um 16.01.23.png'\n",
    "image = cv2.imread(image_path)\n",
    "\n",
    "# Überprüfen, ob das Bild korrekt geladen wurde\n",
    "if image is None:\n",
    "    print(\"Bild konnte nicht geladen werden.\")\n",
    "else:\n",
    "    # Zahlen aus dem Bild auslesen\n",
    "    numbers = extract_numbers_from_frame(image)\n",
    "    print(f'Erkannte Zahlen: {numbers}')\n"
   ]
  },
  {
   "cell_type": "code",
   "execution_count": 6,
   "id": "0b0355a4",
   "metadata": {},
   "outputs": [
    {
     "data": {
      "text/plain": [
       "''"
      ]
     },
     "execution_count": 6,
     "metadata": {},
     "output_type": "execute_result"
    }
   ],
   "source": [
    "import cv2 \n",
    "import pytesseract\n",
    "import matplotlib.pyplot as plt\n",
    "import numpy as np\n",
    "\n",
    "img = cv2.imread('doc/Bildschirmfoto 2024-05-27 um 16.01.23.png')\n",
    "img = cv2.imread('Bildschirmfoto 2024-05-27 um 17.19.07.png')\n",
    "\n",
    "\n",
    "# Adding custom options\n",
    "custom_config = r'--psm 7'\n",
    "pytesseract.image_to_string(img, config=custom_config)"
   ]
  },
  {
   "cell_type": "code",
   "execution_count": 10,
   "id": "70656e3a",
   "metadata": {},
   "outputs": [
    {
     "data": {
      "text/plain": [
       "array([[ 42,  41,  40, ..., 105, 105, 103],\n",
       "       [ 42,  41,  40, ..., 109, 109, 107],\n",
       "       [ 42,  41,  40, ..., 113, 112, 109],\n",
       "       ...,\n",
       "       [ 42,  42,  43, ...,  43,  44,  45],\n",
       "       [ 43,  43,  42, ...,  45,  45,  46],\n",
       "       [ 43,  42,  42, ...,  46,  46,  46]], dtype=uint8)"
      ]
     },
     "execution_count": 10,
     "metadata": {},
     "output_type": "execute_result"
    },
    {
     "data": {
      "image/png": "[encoded data removed]",
      "text/plain": [
       "<Figure size 640x480 with 1 Axes>"
      ]
     },
     "metadata": {},
     "output_type": "display_data"
    }
   ],
   "source": [
    "img\n",
    "green = img[90:190,:500,1]\n",
    "#green[green<200] = 0\n",
    "#green[green>=200] = 300\n",
    "plt.imshow(green,cmap='grey')\n",
    "np.max(img[:,:,1])\n",
    "green"
   ]
  },
  {
   "cell_type": "code",
   "execution_count": 12,
   "id": "28f2db62",
   "metadata": {},
   "outputs": [
    {
     "ename": "TesseractError",
     "evalue": "(1, 'Error opening data file /opt/homebrew/share/tessdata/sun.traineddata Please make sure the TESSDATA_PREFIX environment variable is set to your \"tessdata\" directory. Failed loading language \\'sun\\' Tesseract couldn\\'t load any languages! Could not initialize tesseract.')",
     "output_type": "error",
     "traceback": [
      "\u001b[0;31m---------------------------------------------------------------------------\u001b[0m",
      "\u001b[0;31mTesseractError\u001b[0m                            Traceback (most recent call last)",
      "\u001b[1;32m/Users/raphaelmutter/P2-sose-2024/Vakuum/Vakuum.ipynb Zelle 32\u001b[0m line \u001b[0;36m1\n\u001b[0;32m----> <a href='vscode-notebook-cell:/Users/raphaelmutter/P2-sose-2024/Vakuum/Vakuum.ipynb#X51sZmlsZQ%3D%3D?line=0'>1</a>\u001b[0m pytesseract\u001b[39m.\u001b[39;49mimage_to_string(green,config\u001b[39m=\u001b[39;49m\u001b[39m'\u001b[39;49m\u001b[39m--psm 7 -c tessedit_char_whitelist=0123456789.\u001b[39;49m\u001b[39m'\u001b[39;49m,lang\u001b[39m=\u001b[39;49m\u001b[39m'\u001b[39;49m\u001b[39msun\u001b[39;49m\u001b[39m'\u001b[39;49m)\n",
      "File \u001b[0;32m~/miniconda3/lib/python3.11/site-packages/pytesseract/pytesseract.py:423\u001b[0m, in \u001b[0;36mimage_to_string\u001b[0;34m(image, lang, config, nice, output_type, timeout)\u001b[0m\n\u001b[1;32m    418\u001b[0m \u001b[39m\u001b[39m\u001b[39m\"\"\"\u001b[39;00m\n\u001b[1;32m    419\u001b[0m \u001b[39mReturns the result of a Tesseract OCR run on the provided image to string\u001b[39;00m\n\u001b[1;32m    420\u001b[0m \u001b[39m\"\"\"\u001b[39;00m\n\u001b[1;32m    421\u001b[0m args \u001b[39m=\u001b[39m [image, \u001b[39m'\u001b[39m\u001b[39mtxt\u001b[39m\u001b[39m'\u001b[39m, lang, config, nice, timeout]\n\u001b[0;32m--> 423\u001b[0m \u001b[39mreturn\u001b[39;00m {\n\u001b[1;32m    424\u001b[0m     Output\u001b[39m.\u001b[39;49mBYTES: \u001b[39mlambda\u001b[39;49;00m: run_and_get_output(\u001b[39m*\u001b[39;49m(args \u001b[39m+\u001b[39;49m [\u001b[39mTrue\u001b[39;49;00m])),\n\u001b[1;32m    425\u001b[0m     Output\u001b[39m.\u001b[39;49mDICT: \u001b[39mlambda\u001b[39;49;00m: {\u001b[39m'\u001b[39;49m\u001b[39mtext\u001b[39;49m\u001b[39m'\u001b[39;49m: run_and_get_output(\u001b[39m*\u001b[39;49margs)},\n\u001b[1;32m    426\u001b[0m     Output\u001b[39m.\u001b[39;49mSTRING: \u001b[39mlambda\u001b[39;49;00m: run_and_get_output(\u001b[39m*\u001b[39;49margs),\n\u001b[1;32m    427\u001b[0m }[output_type]()\n",
      "File \u001b[0;32m~/miniconda3/lib/python3.11/site-packages/pytesseract/pytesseract.py:426\u001b[0m, in \u001b[0;36mimage_to_string.<locals>.<lambda>\u001b[0;34m()\u001b[0m\n\u001b[1;32m    418\u001b[0m \u001b[39m\u001b[39m\u001b[39m\"\"\"\u001b[39;00m\n\u001b[1;32m    419\u001b[0m \u001b[39mReturns the result of a Tesseract OCR run on the provided image to string\u001b[39;00m\n\u001b[1;32m    420\u001b[0m \u001b[39m\"\"\"\u001b[39;00m\n\u001b[1;32m    421\u001b[0m args \u001b[39m=\u001b[39m [image, \u001b[39m'\u001b[39m\u001b[39mtxt\u001b[39m\u001b[39m'\u001b[39m, lang, config, nice, timeout]\n\u001b[1;32m    423\u001b[0m \u001b[39mreturn\u001b[39;00m {\n\u001b[1;32m    424\u001b[0m     Output\u001b[39m.\u001b[39mBYTES: \u001b[39mlambda\u001b[39;00m: run_and_get_output(\u001b[39m*\u001b[39m(args \u001b[39m+\u001b[39m [\u001b[39mTrue\u001b[39;00m])),\n\u001b[1;32m    425\u001b[0m     Output\u001b[39m.\u001b[39mDICT: \u001b[39mlambda\u001b[39;00m: {\u001b[39m'\u001b[39m\u001b[39mtext\u001b[39m\u001b[39m'\u001b[39m: run_and_get_output(\u001b[39m*\u001b[39margs)},\n\u001b[0;32m--> 426\u001b[0m     Output\u001b[39m.\u001b[39mSTRING: \u001b[39mlambda\u001b[39;00m: run_and_get_output(\u001b[39m*\u001b[39;49margs),\n\u001b[1;32m    427\u001b[0m }[output_type]()\n",
      "File \u001b[0;32m~/miniconda3/lib/python3.11/site-packages/pytesseract/pytesseract.py:288\u001b[0m, in \u001b[0;36mrun_and_get_output\u001b[0;34m(image, extension, lang, config, nice, timeout, return_bytes)\u001b[0m\n\u001b[1;32m    277\u001b[0m \u001b[39mwith\u001b[39;00m save(image) \u001b[39mas\u001b[39;00m (temp_name, input_filename):\n\u001b[1;32m    278\u001b[0m     kwargs \u001b[39m=\u001b[39m {\n\u001b[1;32m    279\u001b[0m         \u001b[39m'\u001b[39m\u001b[39minput_filename\u001b[39m\u001b[39m'\u001b[39m: input_filename,\n\u001b[1;32m    280\u001b[0m         \u001b[39m'\u001b[39m\u001b[39moutput_filename_base\u001b[39m\u001b[39m'\u001b[39m: temp_name,\n\u001b[0;32m   (...)\u001b[0m\n\u001b[1;32m    285\u001b[0m         \u001b[39m'\u001b[39m\u001b[39mtimeout\u001b[39m\u001b[39m'\u001b[39m: timeout,\n\u001b[1;32m    286\u001b[0m     }\n\u001b[0;32m--> 288\u001b[0m     run_tesseract(\u001b[39m*\u001b[39;49m\u001b[39m*\u001b[39;49mkwargs)\n\u001b[1;32m    289\u001b[0m     filename \u001b[39m=\u001b[39m \u001b[39mf\u001b[39m\u001b[39m\"\u001b[39m\u001b[39m{\u001b[39;00mkwargs[\u001b[39m'\u001b[39m\u001b[39moutput_filename_base\u001b[39m\u001b[39m'\u001b[39m]\u001b[39m}\u001b[39;00m\u001b[39m{\u001b[39;00mextsep\u001b[39m}\u001b[39;00m\u001b[39m{\u001b[39;00mextension\u001b[39m}\u001b[39;00m\u001b[39m\"\u001b[39m\n\u001b[1;32m    290\u001b[0m     \u001b[39mwith\u001b[39;00m \u001b[39mopen\u001b[39m(filename, \u001b[39m'\u001b[39m\u001b[39mrb\u001b[39m\u001b[39m'\u001b[39m) \u001b[39mas\u001b[39;00m output_file:\n",
      "File \u001b[0;32m~/miniconda3/lib/python3.11/site-packages/pytesseract/pytesseract.py:264\u001b[0m, in \u001b[0;36mrun_tesseract\u001b[0;34m(input_filename, output_filename_base, extension, lang, config, nice, timeout)\u001b[0m\n\u001b[1;32m    262\u001b[0m \u001b[39mwith\u001b[39;00m timeout_manager(proc, timeout) \u001b[39mas\u001b[39;00m error_string:\n\u001b[1;32m    263\u001b[0m     \u001b[39mif\u001b[39;00m proc\u001b[39m.\u001b[39mreturncode:\n\u001b[0;32m--> 264\u001b[0m         \u001b[39mraise\u001b[39;00m TesseractError(proc\u001b[39m.\u001b[39mreturncode, get_errors(error_string))\n",
      "\u001b[0;31mTesseractError\u001b[0m: (1, 'Error opening data file /opt/homebrew/share/tessdata/sun.traineddata Please make sure the TESSDATA_PREFIX environment variable is set to your \"tessdata\" directory. Failed loading language \\'sun\\' Tesseract couldn\\'t load any languages! Could not initialize tesseract.')"
     ]
    }
   ],
   "source": [
    "pytesseract.image_to_string(green,config='--psm 7 -c tessedit_char_whitelist=0123456789.',lang='sun')"
   ]
  },
  {
   "cell_type": "code",
   "execution_count": 95,
   "id": "86da9325",
   "metadata": {},
   "outputs": [
    {
     "name": "stdout",
     "output_type": "stream",
     "text": [
      "['eng', 'osd', 'snum']\n"
     ]
    }
   ],
   "source": [
    "\n",
    "print(pytesseract.get_languages(config=''))"
   ]
  },
  {
   "cell_type": "code",
   "execution_count": 1,
   "id": "3e5af693",
   "metadata": {},
   "outputs": [
    {
     "ename": "TypeError",
     "evalue": "run_tesseract() missing 1 required positional argument: 'lang'",
     "output_type": "error",
     "traceback": [
      "\u001b[0;31m---------------------------------------------------------------------------\u001b[0m",
      "\u001b[0;31mTypeError\u001b[0m                                 Traceback (most recent call last)",
      "\u001b[1;32m/Users/raphaelmutter/P2-sose-2024/Vakuum/Vakuum.ipynb Zelle 34\u001b[0m line \u001b[0;36m6\n\u001b[1;32m      <a href='vscode-notebook-cell:/Users/raphaelmutter/P2-sose-2024/Vakuum/Vakuum.ipynb#X53sZmlsZQ%3D%3D?line=3'>4</a>\u001b[0m \u001b[39m# Lade das selbsttrainierte Modell\u001b[39;00m\n\u001b[1;32m      <a href='vscode-notebook-cell:/Users/raphaelmutter/P2-sose-2024/Vakuum/Vakuum.ipynb#X53sZmlsZQ%3D%3D?line=4'>5</a>\u001b[0m custom_model_path \u001b[39m=\u001b[39m \u001b[39m'\u001b[39m\u001b[39mpfad/zum/deinem/modell\u001b[39m\u001b[39m'\u001b[39m\n\u001b[0;32m----> <a href='vscode-notebook-cell:/Users/raphaelmutter/P2-sose-2024/Vakuum/Vakuum.ipynb#X53sZmlsZQ%3D%3D?line=5'>6</a>\u001b[0m pytesseract\u001b[39m.\u001b[39;49mpytesseract\u001b[39m.\u001b[39;49mrun_tesseract(custom_model_path, \u001b[39m'\u001b[39;49m\u001b[39moutput\u001b[39;49m\u001b[39m'\u001b[39;49m,extension\u001b[39m=\u001b[39;49m\u001b[39m'\u001b[39;49m\u001b[39mtrain_output\u001b[39;49m\u001b[39m'\u001b[39;49m)\n\u001b[1;32m      <a href='vscode-notebook-cell:/Users/raphaelmutter/P2-sose-2024/Vakuum/Vakuum.ipynb#X53sZmlsZQ%3D%3D?line=7'>8</a>\u001b[0m \u001b[39m# Definiere die Konfiguration für pytesseract mit dem Pfad zu deinem Modell\u001b[39;00m\n\u001b[1;32m      <a href='vscode-notebook-cell:/Users/raphaelmutter/P2-sose-2024/Vakuum/Vakuum.ipynb#X53sZmlsZQ%3D%3D?line=8'>9</a>\u001b[0m custom_config \u001b[39m=\u001b[39m \u001b[39mr\u001b[39m\u001b[39m'\u001b[39m\u001b[39m--psm 6 --tessdata-dir \u001b[39m\u001b[39m\"\u001b[39m\u001b[39moutput\u001b[39m\u001b[39m\"\u001b[39m\u001b[39m'\u001b[39m\n",
      "\u001b[0;31mTypeError\u001b[0m: run_tesseract() missing 1 required positional argument: 'lang'"
     ]
    }
   ],
   "source": [
    "import pytesseract\n",
    "from PIL import Image\n",
    "\n",
    "# Lade das selbsttrainierte Modell\n",
    "custom_model_path = 'pfad/zum/deinem/modell'\n",
    "#pytesseract.pytesseract.tesseract_cmd = r'C:\\Program Files\\Tesseract-OCR\\tesseract.exe'\n",
    "pytesseract.pytesseract.run_tesseract(custom_model_path, 'output',extension='train_output')\n",
    "\n",
    "# Definiere die Konfiguration für pytesseract mit dem Pfad zu deinem Modell\n",
    "custom_config = r'--psm 6 --tessdata-dir \"output\"'\n",
    "\n",
    "# Lade das Bild\n",
    "image_path = 'pfad/zum/deinem/bild.jpg'\n",
    "img = Image.open(image_path)\n",
    "\n",
    "# Wende pytesseract an, um den Text zu extrahieren\n",
    "text = pytesseract.image_to_string(img, config=custom_config)\n",
    "\n",
    "# Zeige den extrahierten Text an\n",
    "print(text)"
   ]
  },
  {
   "cell_type": "code",
   "execution_count": null,
   "id": "5744742e",
   "metadata": {},
   "outputs": [],
   "source": []
  }
 ],
 "metadata": {
  "kernelspec": {
   "display_name": "Python 3 (ipykernel)",
   "language": "python",
   "name": "python3"
  },
  "language_info": {
   "codemirror_mode": {
    "name": "ipython",
    "version": 3
   },
   "file_extension": ".py",
   "mimetype": "text/x-python",
   "name": "python",
   "nbconvert_exporter": "python",
   "pygments_lexer": "ipython3",
   "version": "3.11.9"
  }
 },
 "nbformat": 4,
 "nbformat_minor": 5
}
