{
 "cells": [
  {
   "cell_type": "markdown",
   "id": "6307f907-501c-4213-9b7f-3fe4de87954d",
   "metadata": {},
   "source": [
    "<img src=\"./figures/Logo_KIT.svg\" width=\"250\" height=\"250\"  style=\"zoom:15%;float:right;\" />\n",
    "\n",
    "# Fakultät für Physik \n",
    "\n",
    "## Physikalisches Praktikum P2 für Studierende der Physik\n",
    "\n",
    "\n",
    "\n",
    "Versuch P2-47, 48, 49 (Stand: April 2023)\n",
    "\n",
    "[Raum F1-08](http://www-ekp.physik.uni-karlsruhe.de/~simonis/praktikum/layoutobjekte/Lageplan_P1.png)"
   ]
  },
  {
   "cell_type": "markdown",
   "id": "9245e776-6ecd-4b3c-b7f3-33bf0428cbcf",
   "metadata": {},
   "source": [
    "Name: __________________ Vorname: __________________ E-Mail: __________________\n",
    "\n",
    "\\begin{equation*}\n",
    "\\begin{split}\n",
    "&\\\\\n",
    "&\\\\\n",
    "\\end{split}\n",
    "\\end{equation*}\n",
    "\n",
    "Name: __________________ Vorname: __________________ E-Mail: __________________\n",
    "\n",
    "\\begin{equation*}\n",
    "\\begin{split}\n",
    "&\\\\\n",
    "&\\\\\n",
    "&\\\\\n",
    "\\end{split}\n",
    "\\end{equation*}\n",
    "\n",
    "Gruppennummer: _____\n",
    "\n",
    "\\begin{equation*}\n",
    "\\begin{split}\n",
    "&\\\\\n",
    "&\\\\\n",
    "&\\\\\n",
    "\\end{split}\n",
    "\\end{equation*}\n",
    "\n",
    "\n",
    "Betreuer: __________________\n",
    "\n",
    "\\begin{equation*}\n",
    "\\begin{split}\n",
    "&\\\\\n",
    "&\\\\\n",
    "&\\\\\n",
    "\\end{split}\n",
    "\\end{equation*}\n",
    "\n",
    "Versuch durchgeführt am: __________________"
   ]
  },
  {
   "cell_type": "markdown",
   "id": "7b0b7e2e-aadc-4302-b181-4aa00e5ff057",
   "metadata": {},
   "source": [
    "---\n",
    "\n",
    "**Beanstandungen:**\n",
    "\n",
    "\\begin{equation*}\n",
    "\\begin{split}\n",
    "&\\\\\n",
    "&\\\\\n",
    "&\\\\\n",
    "&\\\\\n",
    "&\\\\\n",
    "&\\\\\n",
    "&\\\\\n",
    "&\\\\\n",
    "&\\\\\n",
    "&\\\\\n",
    "\\end{split}\n",
    "%\\text{\\vspace{10cm}}\n",
    "\\end{equation*}\n",
    "\n",
    "<br>\n",
    "Testiert am: __________________ Vermerk: __________________"
   ]
  },
  {
   "cell_type": "markdown",
   "id": "3d867da6-cf65-4642-8b7e-ca70190700a7",
   "metadata": {},
   "source": [
    "# Ideales und reales Gas\n",
    "\n",
    "## Motivation\n",
    "\n",
    "Die klassische Thermodynamik beschäftigt sich mit den Eigenschaften makroskopisch ausgedehnter Systeme, die durch Zustandsgrößen, wie Volumen ($V$), Druck ($p$) oder Temperatur ($T$) charakterisiert und mit Hilfe von Zustandsgleichungen beschrieben werden. Zustandsänderungen idealer Gase werden durch die [ideale Gasgleichung](https://de.wikipedia.org/wiki/Thermische_Zustandsgleichung_idealer_Gase) oder die [Adiabaten-Gleichungen](https://de.wikipedia.org/wiki/Adiabatische_Zustands%C3%A4nderung) beschrieben; Wärmeänderungen bei konstantem Druck oder Volumen durch die [kalorischen Zustandsgleichungen](https://de.wikipedia.org/wiki/Zustandsgleichung), die die Änderungen der Temperatur ($\\mathrm{d}T$) mit der Änderungen der inneren Energie ($\\mathrm{d}U$) oder Enthalpie ($\\mathrm{d}H$) verknüpfen. Als Potentialgrößen hängen weder $U$ noch $H$ davon ab, wie ein betreffendes System (z.B. im $pV$-Diagramm) in seinen Zustand gelangt ist. Wärme ($Q$) hingegen ist keine Potentialgröße; Sie kann abhängig davon, auf welchem Weg ein System in seinen Zustand (z.B. im $pV$-Diagramm) gelangt zu unterschiedlichen Anteilen entweder zu Änderungen der inneren Energie ($\\mathrm{d}U$) oder zur Verrichtung mechanischer Arbeit ($\\delta W$) führen, was die Grundlage jeder Wärmekraftmaschine ist. Die Entwicklung der klassischen Thermodynamik als Disziplin der Ingeneurswissenschaften hat ab Mitte des 19. Jahrunderts v.a. durch die Arbeiten von [Nicolas Carnot](https://de.wikipedia.org/wiki/Nicolas_L%C3%A9onard_Sadi_Carnot), [Julius Mayer](https://de.wikipedia.org/wiki/Julius_Robert_Mayer), [James Joule](https://de.wikipedia.org/wiki/James_Prescott_Joule) oder [Rudolf Clausius](https://de.wikipedia.org/wiki/Rudolf_Clausius) rasante Entwicklungen genommen. \n",
    "\n",
    "Die hier angebotenen Versuche bieten Ihnen die Möglichkeit sich mit den nicht immer intuitiven Vorgängen der Thermodynamik experimentell vertraut zu machen: Sie führen Temperaturmessungen mit einem Gasthermometer durch, und bestimmen mit verschiedenen Methoden den [Adiabatenexponenten](https://de.wikipedia.org/wiki/Isentropenexponent) $\\kappa=c_{p}/c_{V}$, wobei das verwendete Gas jeweils verschiedene Wege im $pV$-Diagramm durchläuft. Schließlich messen Sie eine Dampfdruckkurve aus, bei der sich die Phasenzustände \"flüssig\" und \"gasförmig\" im thermodynamischen Gleichgewicht befinden. \n",
    "\n",
    "Um diese Experimente erfolgreich durchführen zu können müssen Sie die Zustände des Arbeitsgases achtsam und sorgfältig präparieren. Bei den meisten hierzu verwendeten Geräten handelt es sich um eigens angefertigte Präzisionsinstrumente.\n",
    "\n",
    "## Lernziele\n",
    "\n",
    "Wir listen im Folgenden die wichtigsten **Lernziele** auf, die wir Ihnen mit dem Versuch **Ideales und reales Gas** vermitteln möchten: \n",
    "\n",
    "- Sie üben sich in der Durchführung thermodynamischer Experimente mit idealen und realen Gasen und präparieren dabei verschiedene Zustandsänderungen des verwendeten Arbeitsgases im $pV$-Diagramm.\n",
    "- Sie verwenden die ideale Gasgleichung zur Temperaturmessung mit Hilfe eines [Gasthermometers](https://de.wikipedia.org/wiki/Gasthermometer). Dabei ermittlen Sie mit Hilfe des Gasthermometers die Temperatur des absoluten Nullpunkts in $^{\\circ}\\mathrm{C}$.\n",
    "- Sie bestimmen $\\kappa$ für Luft und ggf. Argon: \n",
    "  - einmal nach der Methode von [Clément-Desormes](https://de.wikipedia.org/wiki/Experiment_von_Cl%C3%A9ment-Desormes), unter Herbeiführung *adiabatischer* und *isochorer* Zustandsänderungen; und \n",
    "  - einmal nach einer Schwingungsmethode, unter Herbeiführung ausschließlich *adiabatischer* Zustandsänderungen des Arbeitsgases.\n",
    "\n",
    "- Sie bestimmen die [Dampfdruckkurve](https://de.wikipedia.org/wiki/Dampfdruck) von n-[Hexan](https://de.wikipedia.org/wiki/Hexan) und leiten daraus seine Verdampfungswärme $Q_{\\mathrm{M}}$ ab. "
   ]
  },
  {
   "cell_type": "markdown",
   "id": "4fe6a4ef-c163-438b-a8a6-8aed745415e0",
   "metadata": {},
   "source": [
    "## Versuchsaufbau\n",
    "\n",
    "Zwei beispielhafte Aufbauten der hier durchzuführenden Versuche finden Sie in den folgenden Abbildungen dargestellt: \n",
    "\n",
    "Gasthermometer: ([Link](https://git.scc.kit.edu/etp-lehre/p2-for-students/-/raw/main/Ideales_und_reales_Gas/figures/image014.jpg))\n",
    "\n",
    "<img src=\"./figures/image014.jpg\" width=\"500\" height=\"500\" style=\"zoom:60%;\" />\n",
    "\n",
    "Bestimmung von $\\kappa$ nach der Methode von Clément-Desormes: ([Link](https://git.scc.kit.edu/etp-lehre/p2-for-students/-/raw/main/Ideales_und_reales_Gas/figures/image016.jpg))\n",
    "\n",
    "<img src=\"./figures/image016.jpg\"  width=\"500\" height=\"500\" style=\"zoom:60%;\" />\n",
    "\n",
    "Für die verschiedenen Versuchsteile stehen Ihnen vier verschiedene Versuchsaufbauten zur Verfügung. Diese enthalten die folgenden wichtigsten Elemente: \n",
    "\n",
    "- Ein Gasthermometer mit Becherglas, Heizpilz (Heizleistung $320\\,\\mathrm{W}$) und Rührvorrichtung.\n",
    "\n",
    "- Ein [Kathetometer](https://de.wikipedia.org/wiki/Kathetometer) zur exakten Ablesung der Manometer-Anzeigen.\n",
    "\n",
    "- Zwei Glasflaschen (Volumen, jeweils $V=10\\,\\mathrm{l}$) für die Aufgaben 2 und 3. \n",
    "\n",
    "- Ein U-Rohr-Manometer. \n",
    "\n",
    "- Ein Handblasebalg. \n",
    "\n",
    "- Ein Präzisionsglasrohr (Länge $l=60\\,\\mathrm{cm}$) mit exakt eingepasster Stahlkugel (Durchmesser $d=16\\,\\mathrm{mm}\\pm0,5\\%$, $m=16,68\\,\\mathrm{g}\\pm0,1\\%$).\n",
    "\n",
    "- Ein [Kolbenprober](https://de.wikipedia.org/wiki/Kathetometer) ($V=100\\,\\mathrm{ml}$); die Abmessungen des Kolbens sind: Durchmesser $d=31,1(1)\\,\\mathrm{mm}$, $m=109,80(5)\\,\\mathrm{g}$ (einschließlich Magnet zur automatischen Frequenzbestimmung).\n",
    "\n",
    "- Ein Frequenzzählgerät.\n",
    "\n",
    "- Ein Wassergefäß ($V=2\\,\\mathrm{l}$). \n",
    "\n",
    "- Ein Dampfdruckgefäß, das mit $1\\,\\mathrm{mol}$ n-Hexan befüllt und direkt mit einem Hg-Manometer verbunden ist.\n",
    "\n",
    "- Ein Thermometer (Messbereich $0-50^{\\circ}\\mathrm{C}$).\n",
    "\n",
    "- Im Versuchsraum ist ferner ein Barometer zur Bestimmung des Umgebungsdrucks vorhanden.\n",
    "\n",
    "## Wichtige Hinweise\n",
    "\n",
    "- Bei den hier verwendeten Glasgeräten handelt es sich um empfindliche Spezialanfertigungen und zum Teil um eigens angefertigte Präzisionsmessgeräte. Gehen Sie **vorsichtig mit diesen Geräten** um und halten Sie sie sauber. \n",
    "- Beginnen Sie alle im folgenden beschriebenen Versuche **erst nach Rücksprache** mit dem/der Tutor:in. \n",
    "- Um Stromschlägen vorzubeugen fassen Sie bei Feuchtigkeit nicht in den eingeschalteten Heizpilz."
   ]
  },
  {
   "cell_type": "code",
   "execution_count": 1,
   "id": "7dbed1fb",
   "metadata": {},
   "outputs": [],
   "source": [
    "import numpy as np"
   ]
  },
  {
   "cell_type": "markdown",
   "id": "39614214-11bf-4818-a4e9-afafa09b8859",
   "metadata": {},
   "source": [
    "## Durchführung\n",
    "\n",
    "### Aufgabe 1: Gasthermometer\n",
    "\n",
    "Bestimmen Sie den [Spannungskoeffizienten](https://de.wikipedia.org/wiki/Ausdehnungskoeffizient) $\\alpha$ von Luft und berechnen Sie daraus die Temperatur des absoluten Nullpunkts in $^{\\circ}\\mathrm{C}$. Verwenden Sie hierzu die Zustandsgleichung \n",
    "\n",
    "$$\n",
    "\\left.p(T)\\right|_{V=const.} = p_{0}\\left(1+\\alpha\\,T\\right).\n",
    "$$\n",
    "\n",
    "Berechnen Sie den Effekt den die Ausdehnung des Glaskolbens G als Funktion von $T$ hat und korrigieren Sie Ihre Messung entsprechend (siehe [Hinweise für den Versuch \"Ideales und reales Gas\"](https://git.scc.kit.edu/etp-lehre/p2-for-students/-/blob/main/Ideales_und_reales_Gas/README.md)). \n",
    "\n",
    "Um Wartezeiten zu überbrücken können Sie parallel die Messungen zu Aufgabe 2 durchführen.  \n",
    "\n",
    "---"
   ]
  },
  {
   "cell_type": "markdown",
   "id": "653c60a2-945f-43d3-a278-f45c8c83c896",
   "metadata": {},
   "source": [
    "**Lösung:**\n",
    "\n",
    "*Sie können Ihr Protokoll direkt in dieses Dokument einfügen. Wenn Sie dieses Dokument als Grundlage für ein [Jupyter notebook](https://jupyter.org/) verwenden wollen können Sie die Auswertung, Skripte und ggf. bildliche Darstellungen mit Hilfe von [python](https://www.python.org/) ebenfalls hier einfügen. Löschen Sie hierzu diesen kursiv gestellten Text aus dem Dokument.* \n",
    "\n",
    "---"
   ]
  },
  {
   "cell_type": "code",
   "execution_count": null,
   "id": "915aaafb",
   "metadata": {},
   "outputs": [],
   "source": [
    "kalt = np.array([[180.25, 148.00], [179.60, 147.3], [180.35, 147.30], [179.65, 147.30]])  #negatives Vorzeichen deim delta#\n",
    "warm = np.array([[180.4,413.55],[179.9,407.25],[180.7,413.25],[183.3,410.55]])"
   ]
  },
  {
   "cell_type": "markdown",
   "id": "fad8ff7d",
   "metadata": {},
   "source": []
  },
  {
   "cell_type": "markdown",
   "id": "9fd50d32-4319-4eb0-a431-e63b40171a42",
   "metadata": {},
   "source": [
    "### Aufgabe 2: Adiabatenexponent (nach [Clément-Desormes](https://de.wikipedia.org/wiki/Experiment_von_Cl%C3%A9ment-Desormes))\n",
    "\n",
    "Bestimmen Sie $\\kappa$ von Luft. Skizzieren Sie den Prozess im $pV$-Diagramm. Führen Sie die Messung mehrmals durch, um ein Maß für die Streuung aufgrund statistischer Fluktuationen zu erhalten. Führen Sie danach zwei weitere Messreihen durch, bei denen Sie das Ventil in Schritt 2 (siehe [Hinweise für den Versuch \"Ideales und reales Gas\"](https://git.scc.kit.edu/etp-lehre/p2-for-students/-/blob/main/Ideales_und_reales_Gas/README.md)) einmal länger und einmal kürzer geöffnet halten, als dies Ihrer Meinung nach für einen adiabatischen Druckausgleich nötig wäre. Auf diese Weise können Sie den Effekt abschätzen, der dadurch entsteht, dass Sie die Zeitspanne für einen adiabatischen Druckausgleich nicht richtig treffen. Beachten Sie hierzu die Hinweise zu dieser Aufgabe im Dokument [Hinweise für den Versuch \"Ideales und reales Gas\"](https://git.scc.kit.edu/etp-lehre/p2-for-students/-/blob/main/Ideales_und_reales_Gas/README.md).\n",
    "\n",
    "---"
   ]
  },
  {
   "cell_type": "code",
   "execution_count": 7,
   "id": "bd7c19d4",
   "metadata": {},
   "outputs": [
    {
     "data": {
      "text/plain": [
       "(array([[0., 0., 0., 0., 0., 0., 0., 0., 0., 0., 0., 0., 0., 0., 0., 0.,\n",
       "         0., 0., 0., 0., 0., 0., 0., 0., 0., 0., 0., 0., 0., 0., 0., 0.,\n",
       "         0., 0., 0., 0., 0., 0., 0., 0., 0., 0., 0., 0., 0., 1., 0., 0.,\n",
       "         0., 0., 0., 0., 0., 0., 0., 0., 0., 0., 0., 0., 0., 0., 0., 0.,\n",
       "         0., 0., 0., 0., 0., 0., 0., 0., 2., 0., 0., 0., 0., 0., 0., 0.,\n",
       "         0., 0., 0., 0., 0., 0., 0., 0., 0., 0., 1., 0., 0., 0., 0., 0.,\n",
       "         0., 0., 0., 0.],\n",
       "        [1., 0., 0., 0., 0., 0., 0., 0., 0., 0., 0., 0., 0., 0., 0., 0.,\n",
       "         0., 0., 0., 0., 0., 0., 0., 0., 0., 0., 0., 0., 0., 0., 0., 0.,\n",
       "         0., 0., 0., 0., 0., 0., 0., 0., 0., 0., 0., 0., 0., 0., 0., 0.,\n",
       "         0., 0., 0., 0., 0., 0., 0., 0., 0., 0., 0., 0., 0., 0., 0., 0.,\n",
       "         0., 0., 0., 0., 0., 0., 0., 0., 0., 0., 0., 0., 0., 0., 0., 0.,\n",
       "         0., 0., 0., 0., 0., 0., 0., 0., 0., 0., 2., 0., 0., 0., 0., 0.,\n",
       "         0., 0., 0., 1.]]),\n",
       " array([302.  , 302.11, 302.22, 302.33, 302.44, 302.55, 302.66, 302.77,\n",
       "        302.88, 302.99, 303.1 , 303.21, 303.32, 303.43, 303.54, 303.65,\n",
       "        303.76, 303.87, 303.98, 304.09, 304.2 , 304.31, 304.42, 304.53,\n",
       "        304.64, 304.75, 304.86, 304.97, 305.08, 305.19, 305.3 , 305.41,\n",
       "        305.52, 305.63, 305.74, 305.85, 305.96, 306.07, 306.18, 306.29,\n",
       "        306.4 , 306.51, 306.62, 306.73, 306.84, 306.95, 307.06, 307.17,\n",
       "        307.28, 307.39, 307.5 , 307.61, 307.72, 307.83, 307.94, 308.05,\n",
       "        308.16, 308.27, 308.38, 308.49, 308.6 , 308.71, 308.82, 308.93,\n",
       "        309.04, 309.15, 309.26, 309.37, 309.48, 309.59, 309.7 , 309.81,\n",
       "        309.92, 310.03, 310.14, 310.25, 310.36, 310.47, 310.58, 310.69,\n",
       "        310.8 , 310.91, 311.02, 311.13, 311.24, 311.35, 311.46, 311.57,\n",
       "        311.68, 311.79, 311.9 , 312.01, 312.12, 312.23, 312.34, 312.45,\n",
       "        312.56, 312.67, 312.78, 312.89, 313.  ]),\n",
       " <a list of 2 BarContainer objects>)"
      ]
     },
     "execution_count": 7,
     "metadata": {},
     "output_type": "execute_result"
    },
    {
     "data": {
      "image/png": "[encoded data removed]",
      "text/plain": [
       "<Figure size 640x480 with 1 Axes>"
      ]
     },
     "metadata": {},
     "output_type": "display_data"
    }
   ],
   "source": [
    "import numpy as np\n",
    "import matplotlib.pyplot as plt\n",
    "\n",
    "measurements = np.array([[[28, 282], [129, 183]], [[7, 305], [121,181]], [[20, 290], [124, 189]], [[6,301 ], [121, 191]]])\n",
    "fehlerhaft = np.array([[[35, 277], [121, 191]], [[32, 278], [115, 198]]])\n",
    "plt.hist(measurements[:,:,1]+measurements[:,:,0],bins=100)\n"
   ]
  },
  {
   "cell_type": "markdown",
   "id": "4b959d3a-01fb-4970-ab88-cf407121a3d5",
   "metadata": {},
   "source": [
    "### Aufgabe 3: Adiabatenexponent (Schwingungsmethode)\n",
    "\n",
    "Bestimmen Sie $\\kappa$ indem Sie einen geeigneten Pfropfen über einem Luftpolster in Schwingung versetzen. Die Kompression und Expansion der Luft unter dem Pfropfen erfolgen dabei adiabatisch. Durch dieses Vorgehen lässt sich $\\kappa$ aus dem Zusammenhang\n",
    "\n",
    "$$\n",
    "T = 2\\pi\\sqrt{\\frac{m\\,V}{\\kappa\\,p\\,A^{2}}}\n",
    "$$\n",
    "\n",
    "bestimmen, wobei in diesem Fall\n",
    "\n",
    "- $T$ der Periodendauer der Schwingung(!); \n",
    "- $m$ der Masse des Pfropfens; \n",
    "- $A$ der Querschnittsfläche des Rohrs entsprechen. \n",
    "\n",
    "Nehmen Sie für $V$ das Volumen des untersuchten Luftpolsters unter dem Pfropfen (in dessen Ruhelage) und für $p$ den Umgebungsdruck an.\n",
    "\n",
    "Für diese Aufgabe können Sie $\\kappa$ entweder nach der [Methode von Rüchardt](https://de.wikipedia.org/wiki/R%C3%BCchardt-Experiment), oder mit Hilfe eines Kolbenprobers durchführen. Aufgabenstellung und Auswertung variieren je nach Methode:\n",
    "\n",
    "- Nach der Methode nach Rüchardt bestimmen Sie $\\kappa$ nur für Luft.\n",
    "- Mit Hilfe des Kolbenprobers bestimmen Sie $\\kappa$ für Luft und für Argon. Überprüfen Sie die Ergebnisse mit Ihrer Erwartung aus der [kinetischen Gastheorie](https://de.wikipedia.org/wiki/Kinetische_Gastheorie).  \n",
    "\n",
    "Beachten Sie hierzu die [Hinweise zum Versuch \"Ideales und reales Gas\"](https://git.scc.kit.edu/etp-lehre/p2-for-students/-/blob/main/Ideales_und_reales_Gas/README.md).   \n",
    "\n",
    "---"
   ]
  },
  {
   "cell_type": "code",
   "execution_count": null,
   "id": "6e353d46",
   "metadata": {},
   "outputs": [],
   "source": [
    "ml80 =np.array([15.19,14.97,15.43,.15,21])\n",
    "ml60 = np.array([24.59,24.59,])\n",
    "\n",
    "argon65 = np.array([24.11, 24.17])\n",
    "argon50 = np.array([19.67,  19.58, 19.63])\n",
    "argon45 = np.array([18.85, 18.87, 18.88, 18.60])\n",
    "argon40 = np.array([17.93, 18.01, 17.96, 18.03])\n",
    "argon35 = np.array([17.16, 17.18, 16.99, 17.13, 16.95])\n",
    "argon0 = np.array([13.87, 13.88, 13.94, 13.76, 13.70])"
   ]
  },
  {
   "cell_type": "markdown",
   "id": "c582b649-2fdd-4766-a3ba-4ee89a9fdd29",
   "metadata": {},
   "source": [
    "### Aufgabe 4: Dampfdruckkurve (n-Hexan)\n",
    "\n",
    "Bestimmen Sie die Dampfdruckkurve von $1\\,\\mathrm{mol}$ n-Hexan zwischen Zimmertemperatur und $0^{\\circ}\\mathrm{C}$ und bestimmen Sie daraus die molare Verdampfungswärme $Q_{\\mathrm{M}}$ von n-Hexan. \n",
    "\n",
    "---"
   ]
  },
  {
   "cell_type": "code",
   "execution_count": null,
   "id": "0c81f9fd",
   "metadata": {},
   "outputs": [],
   "source": [
    "messung = np.array([[23.0,387.35,391.65],[19.9,377.35,402.0],[16.8,368.9],[12.2,423.7],[9.6,429.0],[4.4,438.0],[2.3,440.9],[0,434.95],[3.3,439.8],[6.0,437.0],[8.9,431.55],[12.0,421.95],[14.0,419.55],[17.8,412.55],[21.0,408.95],[23.9,395.7]]) "
   ]
  },
  {
   "cell_type": "markdown",
   "id": "6c632122-3ccc-4462-956f-fd985ec2b0de",
   "metadata": {},
   "source": [
    "**Lösung:**\n",
    "\n",
    "*Sie können Ihr Protokoll direkt in dieses Dokument einfügen. Wenn Sie dieses Dokument als Grundlage für ein [Jupyter notebook](https://jupyter.org/) verwenden wollen können Sie die Auswertung, Skripte und ggf. bildliche Darstellungen mit Hilfe von [python](https://www.python.org/) ebenfalls hier einfügen. Löschen Sie hierzu diesen kursiv gestellten Text aus dem Dokument.* \n",
    "\n",
    "---"
   ]
  }
 ],
 "metadata": {
  "kernelspec": {
   "display_name": "Python 3 (ipykernel)",
   "language": "python",
   "name": "python3"
  },
  "language_info": {
   "codemirror_mode": {
    "name": "ipython",
    "version": 3
   },
   "file_extension": ".py",
   "mimetype": "text/x-python",
   "name": "python",
   "nbconvert_exporter": "python",
   "pygments_lexer": "ipython3",
   "version": "3.11.9"
  }
 },
 "nbformat": 4,
 "nbformat_minor": 5
}
