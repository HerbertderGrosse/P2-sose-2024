{
 "cells": [
  {
   "cell_type": "markdown",
   "id": "652b3dca-fecf-4216-a1e1-fef0a923d127",
   "metadata": {},
   "source": [
    "<img src=\"./figures/Logo_KIT.svg\" width=\"250\" height=\"250\" style=\"zoom:15%;float:right;\" />\n",
    "\n",
    "# Fakultät für Physik\n",
    "\n",
    "## Physikalisches Praktikum P2 für Studierende der Physik\n",
    "\n",
    "Versuch P2-50, 51, 52 (Stand: April 2023)\n",
    "\n",
    "[Raum F1-17](http://www-ekp.physik.uni-karlsruhe.de/~simonis/praktikum/layoutobjekte/Lageplan_P1.png)"
   ]
  },
  {
   "cell_type": "markdown",
   "id": "61b2d65c-8ee6-4983-8f1c-8c2fddd21a0b",
   "metadata": {},
   "source": [
    "Name: Stier Vorname: Jonah E-Mail: uifed@student.kit.edu\n",
    "\n",
    "\\begin{equation*}\n",
    "\\begin{split}\n",
    "&\\\\\n",
    "&\\\\\n",
    "\\end{split}\n",
    "\\end{equation*}\n",
    "\n",
    "Name: Mutter Vorname: Raphael E-Mail: unodw@student.kit.edu\n",
    "\n",
    "\\begin{equation*}\n",
    "\\begin{split}\n",
    "&\\\\\n",
    "&\\\\\n",
    "&\\\\\n",
    "\\end{split}\n",
    "\\end{equation*}\n",
    "\n",
    "Gruppennummer: Mo31\n",
    "\n",
    "\\begin{equation*}\n",
    "\\begin{split}\n",
    "&\\\\\n",
    "&\\\\\n",
    "&\\\\\n",
    "\\end{split}\n",
    "\\end{equation*}\n",
    "\n",
    "\n",
    "Betreuer: Finn Rosumek\n",
    "\n",
    "\\begin{equation*}\n",
    "\\begin{split}\n",
    "&\\\\\n",
    "&\\\\\n",
    "&\\\\\n",
    "\\end{split}\n",
    "\\end{equation*}\n",
    "\n",
    "Versuch durchgeführt am: 29.04.2024"
   ]
  },
  {
   "cell_type": "markdown",
   "id": "a655d8b4-b06e-4ba0-9533-a492cc0480c8",
   "metadata": {},
   "source": [
    "---\n",
    "\n",
    "**Beanstandungen:**\n",
    "\n",
    "\\begin{equation*}\n",
    "\\begin{split}\n",
    "&\\\\\n",
    "&\\\\\n",
    "&\\\\\n",
    "&\\\\\n",
    "&\\\\\n",
    "&\\\\\n",
    "&\\\\\n",
    "&\\\\\n",
    "&\\\\\n",
    "&\\\\\n",
    "\\end{split}\n",
    "%\\text{\\vspace{10cm}}\n",
    "\\end{equation*}\n",
    "\n",
    "<br>\n",
    "Testiert am: __________________ Vermerk: __________________"
   ]
  },
  {
   "cell_type": "markdown",
   "id": "5253b9bf-6e6b-421e-836d-1e066023b3b6",
   "metadata": {},
   "source": [
    "# Elektrische Bauelemente\n",
    "\n",
    "## Motivation\n",
    "\n",
    "Die Eigenschaften eines elektrischen Bauelements hängen von vielen physikalischen Größen ab. Häufig wirkt sich dies besonders auf dessen Widerstand aus. Die vorherrschende Abhängigkeit gibt dem Bauteil seinen charakteristischen Namen: [NTC-](https://de.wikipedia.org/wiki/Hei%C3%9Fleiter) bzw. [PTC-Widerstände](https://de.wikipedia.org/wiki/Kaltleiter) weisen eine Temperaturabhängigkeit (Negative/Positive Temperature Coefficient) auf. [Der VDR-Widerstand](https://de.wikipedia.org/wiki/Varistor) (Varistor, Voltage Dependent Resistance) reagiert auf Spannungsänderungen. Optoelektrische Bauteile wie [Fotowiderstand](https://de.wikipedia.org/wiki/Fotowiderstand) (LDR, Light Dependent Resistance), [Fotodiode](https://de.wikipedia.org/wiki/Photodiode) und [Fototransistor](https://de.wikipedia.org/wiki/Fototransistor) sind lichtempfindlich oder senden wie die [Leuchtdiode](https://de.wikipedia.org/wiki/Leuchtdiode) (LED, Light Emitting Diode) Licht aus. Druckabhängige Bauelemente sind unter dem Namen [Piezoelemente](https://de.wikipedia.org/wiki/Piezoelement) bekannt, da ihre Eigenschaften auf dem [piezoelektrischen Effekt](https://de.wikipedia.org/wiki/Piezoelektrizit%C3%A4t) beruhen. Supraleiter verlieren ihren elektrischen Widerstand unter bestimmten äußeren Bedingungen sogar *gänzlich*. Interessant ist die Klassifizierung in Leiter, Halbleiter und Nichtleiter (Isolatoren) und die Untersuchung der besonderen Eigenschaften. Hier spielen Halbleiterbauelemente auf Grund ihrer Vielfalt die größte Rolle.\n",
    "\n",
    "## Lernziele\n",
    "\n",
    "- Sie lernendie Eigenschaften verschiedener elektrischer Bauelemente kennen.\n",
    "- Sie lernen die Messmethoden zur Untersuchung der jeweiligen Eigenschaften kennen.\n",
    "- Machen Sie sich zudem mit den beobachteten Effekten und deren praktischen Anwendungsgebieten vertraut und diskutieren Sie diese in Ihrer Versuchsauswertung."
   ]
  },
  {
   "cell_type": "markdown",
   "id": "3118ae3e-9fa4-47bf-826f-4cd5e5f290a9",
   "metadata": {},
   "source": [
    "## Versuchsaufbau\n",
    "\n",
    "Einen Aufbau mit dem Sie diesen Versuch durchführen könnten sehen Sie im Folgenden abgebildet: ([Link](https://git.scc.kit.edu/etp-lehre/p2-for-students/-/raw/main/Elektrische_Bauelemente/figures/Versuchsaufbau.jpg))\n",
    "\n",
    "<img src=\"./figures/Versuchsaufbau.jpg\" width=\"500\" height=\"500\" style=\"zoom:20%;\" />\n",
    "\n",
    "Die wichtigsten Elemente des Versuchsaufbaus sind: \n",
    "\n",
    "- Zwei Versuchsboxen, zur Widerstandsmessung mit Hife der [Wheatstoneschen Brückenschaltung](https://de.wikipedia.org/wiki/Wheatstonesche_Messbr%C3%BCcke) und zur Kennlinienaufnahme.\n",
    " - Ein Tisch-Multimeter (Keithley, Modell 2100, 7-1/2-Digit).\n",
    " - Ein USB-Oszilloskop (PicoScope 2000) mit Computer.\n",
    " - Ein Ofen mit Leistungsregelung, bestückt mit Kupferspule, Konstantandrahtspule, NTC und PT100 und einem eingebauten $\\mathrm{NiCr}$-$\\mathrm{Ni}$-Thermoelement mit passendem Messinstrument.\n",
    " - Ein Frequenzgenerator (GW-Instek SFG-2104). \n",
    " - Ein Trenntransformator.\n",
    " - Verschiedene Bauelemente als Steckeinheiten: Widerstände $1,\\,33,\\,51,\\,100\\,(2\\times),\\,680,\\,1200\\,\\Omega$, je 1% Toleranz, $\\mathrm{Si}$-Diode, $\\mathrm{Ge}$-Diode, Zener-Diode, Varistor, Fotodiode, Fotowiderstand, Lumineszenzdioden LED (grün, gelb, orange, rot).\n",
    " - Eine Taschenlampe zur Beleuchtung.\n",
    " - Eine Experimentierleuchte mit Fotodioden-Aufsatz und Netzgerät (EA-PS-2016).\n",
    " - Ein Piezoelement (Resonanzfrequenz $2,9\\,\\mathrm{kHz}$) in Gehäuse, Lautsprecher.\n",
    " - Ein Supraleiter in Gehäuse mit Absenkvorrichtung, ein Dewargefäß, eine Vierleitermessschaltung mit Konstantstromquelle ($I_{\\mathrm{const}}=63\\,\\mathrm{mA}$) und Steckernetzgerät.\n",
    " - Flüssigstickstoff.\n",
    "\n",
    "## Wichtige Hinweise\n",
    "\n",
    "- Sie benötigen einen USB-Stick zur Datensicherung.\n",
    "- Das Gehäuse des Ofens für Aufgabe 1 erhitzt sich stark! Vermeiden Sie daher jeglichen Kontakt mit der Oberfläche.\n",
    "- [Flüssigstickstoff](https://de.wikipedia.org/wiki/Fl%C3%BCssigstickstoff), wie Sie ihn für Aufgabe 5 verwenden, kann schwere Kälteverbrennungen verursachen! Tragen Sie daher stets Handschuhe und Schutzbrille tragen, wenn Sie damit umgehen."
   ]
  },
  {
   "cell_type": "code",
   "execution_count": 101,
   "id": "de66acd7",
   "metadata": {},
   "outputs": [],
   "source": [
    "import numpy as np\n",
    "import matplotlib.pyplot as plt \n",
    "\n",
    "def draw_circuit():\n",
    "    path = [[-0.02,0.51],[0.02,0.51],[0,0.51],[0,1],[1,1],[1,0.52],[1.03,0.52],[1.03,0.50],[1.03,0.52],\\\n",
    "        [0.97,0.52],[1,0.52],[0.97,0.46],[1.03,0.46],[1,0.52],[1.03,0.46],[1,0.46],[1,0],[0,0],[0,0.49],[-0.04,0.49],[0.04,0.49]]\n",
    "    path2 = [[0.7,0],[0.7,0.45]]\n",
    "    circle = [[0.05*np.sin(n)+0.7,-0.05*np.cos(n)+0.5] for n in np.linspace(0,3*np.pi,100)]\n",
    "    path2 += circle\n",
    "    path2 += [[0.7,1]]\n",
    "\n",
    "    plt.plot(*zip(*path2),color='black')\n",
    "    plt.plot(*zip(*path),color='black')\n",
    "    plt.axis('off')\n",
    "    plt.title('Spannungsstabilisierung mit Zenerdiode')\n",
    "    plt.show()\n",
    "    \n",
    "def draw_circuit2():\n",
    "    path1 = [[-0.02,0.51],[0.02,0.51],[0,0.51],[0,1],[1,1],[1,0.7]]\n",
    "    path2 = [[1,0.3],[1,0],[0,0],[0,0.49],[-0.04,0.49],[0.04,0.49]]\n",
    "    spiral = [[1+0.02*np.sin(n),0.63+0.02*np.cos(n)-0.04*n/np.pi] for n in np.linspace(0,8*np.pi)]\n",
    "    path = path1+spiral+path2\n",
    "    vir = [[0.7,0],[0.7,0.4],[0.73,0.4],[0.73,0.6],[0.67,0.6],[0.67,0.4],[0.73,0.4],[0.73,0.44],[0.74,0.425],[0.65,0.59],[0.65,0.62]]\n",
    "    strip = [[0.7,1],[0.7,0.6]]\n",
    "    plt.plot(*zip(*path),color='black')\n",
    "    plt.plot(*zip(*strip),color='black')\n",
    "    plt.plot(*zip(*vir),color='black')\n",
    "    plt.title('Spannungsschutz mit Varistor')\n",
    "    plt.axis('off')\n",
    "    plt.show()\n",
    "    \n",
    "    "
   ]
  },
  {
   "cell_type": "markdown",
   "id": "6c044b4e-72d2-4f5f-885d-9cb8d85795d5",
   "metadata": {},
   "source": [
    "## Durchführung\n",
    "\n",
    "### Aufgabe 1: Wheatstonesche Brückenschaltung\n",
    "\n",
    "Messen Sie mit Hilfe der [Wheatstoneschen Brückenschaltung](https://de.wikipedia.org/wiki/Wheatstonesche_Messbr%C3%BCcke) die Temperaturabhängigkeit des Widerstands ($R(T)$) verschiedener Bauteile im Bereich von Zimmertemperatur bis $\\approx 150^{\\circ}\\mathrm{C}$. Eine Schaltskizze der Wheatstoneschen Brücke finden Sie im Folgenden abgebildet: ([Link](https://git.scc.kit.edu/etp-lehre/p2-for-students/-/raw/main/Elektrische_Bauelemente/figures/Wheatstonesche_Brueckenschaltung.png))\n",
    "\n",
    "<img src=\"./figures/Wheatstonesche_Brueckenschaltung.png\" width=\"500\" height=\"500\" style=\"zoom:40%\" />\n",
    "\n",
    "- Messen Sie dazu mit Hilfe der Versuchsbox nacheinander den Widerstand von NTC und PT100 in Abhängigkeit von der jeweiligen Temperatur. Als Spannungsquelle dient Ihnen hierzu das Netzgerät, das eine Gleichspannung von $U=2\\,\\mathrm{V}$ liefert. Um die Erwärmung des Widerstands durch den Messstrom selbst gering zu halten, sollten Sie diesen (durch Betätigung des Tasters) jeweils nur kurzzeitig eingeschalten. Als Brückeninstrument dient das Multimeter im $\\mathrm{mA}$(DC)-Bereich. Wählen Sie den Referenzwiderstand in der gleichen Größenordnung, wie das zu messende Bauteil. (Überprüfen Sie den angegebenen Wert mit dem Multimeter.) Nehmen Sie beim Erwärmen des Ofens die Messreihe am NTC und beim Abkühlen die Messreihe am PT100 auf.\n",
    "- Begründen Sie, warum die Messung mit Hilfe der Wheatstoneschen Brückenschaltung in diesem Falle sinnvoll ist.\n",
    "- Stellen Sie die $R(T)$-Abhängigkeiten jeweils graphisch dar und schließen Sie daraus auf die Eigenschaften des Bauteils.\n",
    "- Wählen Sie zur Auswertung für den NTC-Widerstand eine geeignete Auftragung, um die Koeffizienten $a$ und $b$ aus der Gleichung <br>$$R(T) = a \\cdot e^{b/T}$$ <br>zu bestimmen. Diskutieren Sie in Ihrer Versuchsauswertung, wie man NTC-Widerstände zur Temperaturmessung, Füllstandsanzeige und Strombegrenzung verwenden kann.\n",
    "- Für den PT100 gilt der funktionale Zusammenhang: <br>$$R(T) = R_{0} + c \\cdot T.$$<br> Bestimmen Sie die Konstante $c$ und überprüfen Sie den Widerstand $R_{0}$ bei $0^{\\circ}\\mathrm{C}$. Diskutieren Sie auch hier mögliche Einsatzgebiete.\n",
    "\n",
    "---"
   ]
  },
  {
   "cell_type": "markdown",
   "id": "923a5a23-9053-4465-9e19-830e339d05e8",
   "metadata": {},
   "source": [
    "**Lösung:**\n",
    "\n",
    "*Sie können Ihr Protokoll direkt in dieses Dokument einfügen. Wenn Sie dieses Dokument als Grundlage für ein [Jupyter notebook](https://jupyter.org/) verwenden wollen können Sie die Auswertung, Skripte und ggf. bildliche Darstellungen mit Hilfe von [python](https://www.python.org/) ebenfalls hier einfügen. Löschen Sie hierzu diesen kursiv gestellten Text aus dem Dokument.* \n",
    "\n",
    "---"
   ]
  },
  {
   "cell_type": "markdown",
   "id": "b39ea757",
   "metadata": {},
   "source": [
    "**Einsatzmöglichkeiten von NTC-Widerständen**\n",
    "\n",
    "- Temperaturmessung:\n",
    "Dieser Einsatzbereich ist offensichtlich und ergibt sich aus der oben dargelegten, und der durch den Versuch bestimmten, Formel für den Zusammenhang von Widerstand und Temperatur. \n",
    "\n",
    "- Füllstandsanzeige:\n",
    "Aufgrund der generell sehr hohen Temperaturleitfähigkeit von Flüssigkeiten im Vergleich zu Luft sorgen sie für eine starke Wärmeübertragung zwischen einem sich erhitzenden Bauteil und der Umgebung. Diese schnelle Wärmeübertragung kann nun durch den nur noch wenig stromabhängigen Widerstand bestimmt werden. \n",
    "\n",
    "    Die Wärmeleistung, welche nach \n",
    "\n",
    "    $P = U\\,I = \\frac{U^2}{R}$ \n",
    "\n",
    "    an den Widerstand abgegeben wird, wird also direkt an die Füssigkeit mit weitaus größerer Oberfläche und Wärmekapazität übertragen, wodurch sich der Widerstand nur noch schwach erhitzt.\n",
    "\n",
    "- Strombegrenzung:\n",
    "Hierzu muss der NTC parallel zu dem zu schützenden Bauteil angebracht werden.\n",
    "Wird der Strom durch den NTC so stark, dass die nach \n",
    "\n",
    "    $P = R\\,I^2$ \n",
    "\n",
    "    erzeugte Wärme nicht mehr an die Umgebung abgegeben werden kann, so steigt der Widerstand immer weiter, wodurch auch die Wärmleistung immer weiter steigt. Irgendwann wird der Widerstand so klein, dass der Strom durch ihn fließt und am zu schützenden Bauteil vorbei."
   ]
  },
  {
   "cell_type": "markdown",
   "id": "7eb08120",
   "metadata": {},
   "source": [
    "**Einsatzmöglichkeiten des PT100**\n",
    "\n",
    "- Temperaturmessung:\n",
    "Aufgrund der nahäurngsweisen linearen Abhängigkeit des Widerstandes von der Temperatur, eignet es sich hervorragend  hierzu"
   ]
  },
  {
   "cell_type": "markdown",
   "id": "8f9be5fb",
   "metadata": {},
   "source": [
    "### Aufgabe 2: Kennlinien\n",
    "\n",
    "Überlegen Sie sich zur Vorbereitung auf diesem Versuch Antworten zu den folgenden Fragen und fertigen Sie entsprechende Schaltskizzen an:\n",
    "\n",
    "- Wie können Sie eine Spannungsstabilisierung mit Hilfe einer Zenerdiode realisieren?\n",
    "- Wie können Sie den Varistor als Schutz gegen induzierte Spannungen an geschalteten Induktivitäten verwenden?"
   ]
  },
  {
   "cell_type": "markdown",
   "id": "01ecdb2c",
   "metadata": {},
   "source": [
    "**Vorbereitende Überlegungen**:\n",
    "\n",
    "Eine Zenerdiode könnte parralel zu einem Stromkreis/einem Bauteil eingesetzt werden, um bei zu hoher Spannung den Strom über sich selbst abzuleiten."
   ]
  },
  {
   "cell_type": "code",
   "execution_count": 99,
   "id": "16d2490c",
   "metadata": {},
   "outputs": [
    {
     "data": {
      "image/png": "[encoded data removed]",
      "text/plain": [
       "<Figure size 640x480 with 1 Axes>"
      ]
     },
     "metadata": {},
     "output_type": "display_data"
    }
   ],
   "source": [
    "draw_circuit()"
   ]
  },
  {
   "cell_type": "markdown",
   "id": "9a43d6f1",
   "metadata": {},
   "source": [
    "Der Aufbau beim Varistor ist wieder ähnlich zu dem der Zehnerdiode. Parallel zur Spule geschalten sorgt er für die Abfuhr von zu hohen Spannungen über sich selbst."
   ]
  },
  {
   "cell_type": "code",
   "execution_count": 102,
   "id": "da02321c",
   "metadata": {},
   "outputs": [
    {
     "data": {
      "image/png": "[encoded data removed]",
      "text/plain": [
       "<Figure size 640x480 with 1 Axes>"
      ]
     },
     "metadata": {},
     "output_type": "display_data"
    }
   ],
   "source": [
    "draw_circuit2()"
   ]
  },
  {
   "cell_type": "markdown",
   "id": "ff1e8d8c-bba2-402c-891a-9cd60312f658",
   "metadata": {},
   "source": [
    "#### Aufgabe 2.1\n",
    "\n",
    "Nehmen Sie die Kennlinien folgender Bauteile am USB-Oszilloskop auf:\n",
    "\n",
    "- $\\mathrm{Si}$-Diode (SID)\n",
    "- $\\mathrm{Ge}$-Diode (GED)\n",
    "- Zener-Diode (ZED)\n",
    "- Varistor (VDR)\n",
    "- Fotodiode\n",
    "- Fotowiderstand\n",
    "- LED (in vier verschiedenen Farben).\n",
    "\n",
    "Verwenden Sie dafür die Versuchsbox mit der folgenden Schaltskizze, an die Sie das Eingangssignal über den Trenntransformator in Form einer sinusförmigen Wechselspannung (mit der Frequenz $\\nu=100\\,\\mathrm{Hz}$) angelegen: ([Link](https://git.scc.kit.edu/etp-lehre/p2-for-students/-/raw/main/Elektrische_Bauelemente/figures/Kennlinienaufnahme.jpg))\n",
    "\n",
    "<img src=\"./figures/Kennlinienaufnahme.jpg\" width=\"500\" height=\"500\" style=\"zoom:80%;\" />\n",
    "\n",
    "Gemäß der Schaltung werden über einem Widerstand (mit $R=100\\,\\Omega$) an Kanal A (CH A) und über dem jeweiligen Bauteil an Kanal B (CH B) Spannungen abgenommen. Mit Hilfe der XY-Darstellung der „PicoScope 6-Software“ kann dann die jeweilige Kennlinie aufgenommen werden. Untersuchen Sie hierbei insbesondere die folgenden Eigenschaften:\n",
    "\n",
    "- Die SID, GED und ZED auf ihre jeweilige Schwellenspannung und ggf. auch Zenerspannung.\n",
    "- Das Verhalten der Fotodiode bei verschiedenen Beleuchtungen (z.B. durch die Smartphone-Lampe).\n",
    "- Das Verhalten des Fotowiderstands bei verschiedenen Beleuchtungen.\n",
    "- Die Verschiedenfarbigen LEDs auf ihre jeweilige Schwellenspannung und den Zusammenhang mit der Frequenz des emittierten Lichts.\n",
    "\n",
    "Interpretieren Sie die Kennlinien ausführlich und geben Sie charakteristische Punkte an. Berechnen Sie beim Fotowiderstand aus der Steigung der Kennlinien den jeweiligen Widerstandswert. Schließen Sie auf typische Eigenschaften der Bauteile und leiten Sie daraus mögliche Anwendungen ab.\n",
    "\n",
    "---"
   ]
  },
  {
   "cell_type": "markdown",
   "id": "1fefea1d-718b-4dd4-a3ac-6352b9967365",
   "metadata": {},
   "source": [
    "**Lösung:**\n",
    "\n",
    "*Sie können Ihr Protokoll direkt in dieses Dokument einfügen. Wenn Sie dieses Dokument als Grundlage für ein [Jupyter notebook](https://jupyter.org/) verwenden wollen können Sie die Auswertung, Skripte und ggf. bildliche Darstellungen mit Hilfe von [python](https://www.python.org/) ebenfalls hier einfügen. Löschen Sie hierzu diesen kursiv gestellten Text aus dem Dokument.* \n",
    "\n",
    "---"
   ]
  },
  {
   "cell_type": "markdown",
   "id": "b425be2e-7a95-4868-9fb6-242d4de23481",
   "metadata": {},
   "source": [
    "#### Aufgabe 2.2\n",
    "\n",
    "Untersuchen Sie qualitativ die Frequenzabhängigkeit einiger Bauelemente bei Frequenzen von $\\nu=0,1\\,\\mathrm{kHz}$ bis $10\\,\\mathrm{kHz}$).\n",
    "\n",
    "---"
   ]
  },
  {
   "cell_type": "markdown",
   "id": "3df54377-f490-4fad-bf3e-8c5b490cb521",
   "metadata": {},
   "source": [
    "**Lösung:**\n",
    "\n",
    "*Sie können Ihr Protokoll direkt in dieses Dokument einfügen. Wenn Sie dieses Dokument als Grundlage für ein [Jupyter notebook](https://jupyter.org/) verwenden wollen können Sie die Auswertung, Skripte und ggf. bildliche Darstellungen mit Hilfe von [python](https://www.python.org/) ebenfalls hier einfügen. Löschen Sie hierzu diesen kursiv gestellten Text aus dem Dokument.* \n",
    "\n",
    "---"
   ]
  },
  {
   "cell_type": "markdown",
   "id": "c1abecd6-3220-4eb0-be3c-592db15ad713",
   "metadata": {},
   "source": [
    "### Aufgabe 3\n",
    "\n",
    "Nehmen Sie die Kennlinie einer Fotodiode bei verschiedenen Beleuchtungsstärken auf und entnehmen Sie dieser jeweils den Sperrstrom. Verwenden Sie hierzu die Schaltung aus Aufgabe 2 aus bei $\\nu=10\\,\\mathrm{Hz}$, sowie die regulierbare Experimentierleuchte mit Fotodioden-Aufsatz. Beginnen Sie bei einer Lampenspannung von $U=2\\,\\mathrm{V}$ als niedrigste Stufe der Beleuchtung und beobachten Sie die Veränderung der Kennlinie bei zunehmender Spannung (in Schritten von $1\\,\\mathrm{V}$) und Beleuchtungsstärke. Stellen Sie in der Auswertung den Zusammenhang zwischen Sperrstrom und Beleuchtungsstärke graphisch dar.\n",
    "\n",
    "Hinweis: Die Umrechnungstabelle zwischen Lampenspannung und Beleuchtungsstärke finden Sie unter [`params/Umrechnung_Lampenspannung.csv`.](https://git.scc.kit.edu/etp-lehre/p2-for-students/-/blob/main/Elektrische_Bauelemente/params/Umrechnung_Lampenspannung.csv)\n",
    "\n",
    "---"
   ]
  },
  {
   "cell_type": "markdown",
   "id": "b4df506e-cedd-4d8f-bf1e-b1bb8c090f92",
   "metadata": {},
   "source": [
    "**Lösung:**\n",
    "\n",
    "*Sie können Ihr Protokoll direkt in dieses Dokument einfügen. Wenn Sie dieses Dokument als Grundlage für ein [Jupyter notebook](https://jupyter.org/) verwenden wollen können Sie die Auswertung, Skripte und ggf. bildliche Darstellungen mit Hilfe von [python](https://www.python.org/) ebenfalls hier einfügen. Löschen Sie hierzu diesen kursiv gestellten Text aus dem Dokument.* \n",
    "\n",
    "---"
   ]
  },
  {
   "cell_type": "markdown",
   "id": "256d9077-a7dc-417d-b6ee-8e53cffdba57",
   "metadata": {},
   "source": [
    "### Aufgabe 4: Piezoelektrischer Effekt\n",
    "\n",
    "Untersuchen Sie den piezoelektrischen Effekt am Piezoelement. Gehen Sie dabei wie folgt vor:\n",
    "\n",
    "- Beobachten Sie den direkten piezoelektrischen Effekt am USB-Oszilloskop, indem Sie manuell verschiedene Drücke auf das Piezoelement ausüben. Machen Sie ein Frequenzsignal sichtbar, indem Sie mit dem Frequenzgenerator verschiedene Signale auf den Lautsprecher geben und diese auf das Piezoelement übertragen.\n",
    "- Überprüfen Sie die Funktion des Piezoelements als Lautsprecher. Schließen Sie es hierzu direkt an den Frequenzgenerator an.\n",
    "- Beschreiben Sie Ihre Beobachtungen und diskutieren Sie Anwendungen des piezoelektrischen Effekts.\n",
    "\n",
    "---"
   ]
  },
  {
   "cell_type": "markdown",
   "id": "97ce286a-059d-4d23-960f-6317567962e9",
   "metadata": {},
   "source": [
    "**Lösung:**\n",
    "\n",
    "*Sie können Ihr Protokoll direkt in dieses Dokument einfügen. Wenn Sie dieses Dokument als Grundlage für ein [Jupyter notebook](https://jupyter.org/) verwenden wollen können Sie die Auswertung, Skripte und ggf. bildliche Darstellungen mit Hilfe von [python](https://www.python.org/) ebenfalls hier einfügen. Löschen Sie hierzu diesen kursiv gestellten Text aus dem Dokument.* \n",
    "\n",
    "---"
   ]
  },
  {
   "cell_type": "markdown",
   "id": "59aa6269-e7cc-46f1-bc6c-d482c185e1c5",
   "metadata": {},
   "source": [
    "### Aufgabe 5: Hochtemperatursupraleiter\n",
    "\n",
    "Bestimmen Sie die Sprungtemperatur eines  Hochtemperatursupraleiters. Gehen Sie dabei wie folgt vor:\n",
    "\n",
    "Messen Sie den Spannungsabfall am Hochtemperatursupraleiter mit Hilfe der fertig aufgebauten Vierleiterschaltung ($I_\\mathrm{const}=63\\,\\mathrm{mA}$) und des Multimeters. Kühlen Sie die Probe von Raumtemperatur auf $T=77\\,\\mathrm{K}$ ab. Nutzen Sie hierfür den Temperaturgradienten über dem Stickstoff-Bad. Nehmen Sie eine Messreihe aus $U_{\\mathrm{gem}}$ und zugehöriger Temperatur $T$ (in Schritten von $5\\,\\mathrm{K}$) auf. Beschreiben Sie das Verhalten des Hochtemperatursupraleiters.\n",
    "\n",
    "- Tragen Sie zur Auswertung den Widerstand $R=U_{\\mathrm{gem}}/I$ über der Temperatur $T$ auf und geben Sie die Sprungtemperatur an.\n",
    "- Erklären Sie, warum zur Messung eine Vierleiterschaltung verwendet wird.\n",
    "\n",
    "Beachten Sie, dass die Anzeige des Thermometers bei tiefen Temperaturen entsprechend der im Datenblatt angegebenen Tabelle [`params/Temperatur_Korrektur.csv`](https://git.scc.kit.edu/etp-lehre/p2-for-students/-/blob/main/Elektrische_Bauelemente/params/Temperatur_Korrektur.csv) vom wahren Wert abweicht. Für die Beurteilung der Sprungtemperatur beachten Sie, dass am Ort von Temperatursensor und Supraleiter ein hoher Temperaturgradient vorliegt.\n",
    "\n",
    "---"
   ]
  },
  {
   "cell_type": "markdown",
   "id": "3439cde4-719b-44cf-9499-da75cdf7d9f5",
   "metadata": {},
   "source": [
    "**Lösung:**\n",
    "\n",
    "*Sie können Ihr Protokoll direkt in dieses Dokument einfügen. Wenn Sie dieses Dokument als Grundlage für ein [Jupyter notebook](https://jupyter.org/) verwenden wollen können Sie die Auswertung, Skripte und ggf. bildliche Darstellungen mit Hilfe von [python](https://www.python.org/) ebenfalls hier einfügen. Löschen Sie hierzu diesen kursiv gestellten Text aus dem Dokument.* \n",
    "\n",
    "---"
   ]
  }
 ],
 "metadata": {
  "kernelspec": {
   "display_name": "Python 3 (ipykernel)",
   "language": "python",
   "name": "python3"
  },
  "language_info": {
   "codemirror_mode": {
    "name": "ipython",
    "version": 3
   },
   "file_extension": ".py",
   "mimetype": "text/x-python",
   "name": "python",
   "nbconvert_exporter": "python",
   "pygments_lexer": "ipython3",
   "version": "3.11.4"
  }
 },
 "nbformat": 4,
 "nbformat_minor": 5
}
